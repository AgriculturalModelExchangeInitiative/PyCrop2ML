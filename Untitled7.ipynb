{
 "cells": [
  {
   "cell_type": "code",
   "execution_count": 3,
   "metadata": {},
   "outputs": [
    {
     "data": {
      "application/vnd.jupyter.widget-view+json": {
       "model_id": "7e38e88edd74441d865e756db9308709",
       "version_major": 2,
       "version_minor": 0
      },
      "text/plain": [
       "Output()"
      ]
     },
     "metadata": {},
     "output_type": "display_data"
    },
    {
     "data": {
      "application/vnd.jupyter.widget-view+json": {
       "model_id": "a06342a22ea7420b8cd4583c0f51994c",
       "version_major": 2,
       "version_minor": 0
      },
      "text/plain": [
       "Output()"
      ]
     },
     "metadata": {},
     "output_type": "display_data"
    }
   ],
   "source": [
    "from pycrop2ml_ui.model.MainMenu import main\n",
    "main()"
   ]
  },
  {
   "cell_type": "code",
   "execution_count": 1,
   "metadata": {},
   "outputs": [],
   "source": [
    "import os\n",
    "from path import Path\n",
    "pkg1 = Path(\"C:/Users/midingoy/Documents/THESE/pycropml_pheno/test/Tutorial/pheno_pkg\")\n",
    "from pycropml.cyml import transpile_package"
   ]
  },
  {
   "cell_type": "code",
   "execution_count": 2,
   "metadata": {},
   "outputs": [
    {
     "name": "stdout",
     "output_type": "stream",
     "text": [
      "C:/Users/midingoy/Documents/THESE/pycropml_pheno/test/Tutorial/pheno_pkg\\crop2ml\\composition.Phenology.xml\n",
      "C:/Users/midingoy/Documents/THESE/pycropml_pheno/test/Tutorial/pheno_pkg\\crop2ml\\composition.Phenology.xml\n",
      "C:/Users/midingoy/Documents/THESE/pycropml_pheno/test/Tutorial/pheno_pkg\\crop2ml\\composition.Phenology.xml\n",
      "C:/Users/midingoy/Documents/THESE/pycropml_pheno/test/Tutorial/pheno_pkg\\crop2ml\\composition.Phenology.xml\n",
      "C:/Users/midingoy/Documents/THESE/pycropml_pheno/test/Tutorial/pheno_pkg\\crop2ml\\composition.Phenology.xml\n",
      "C:/Users/midingoy/Documents/THESE/pycropml_pheno/test/Tutorial/pheno_pkg\\crop2ml\\composition.Phenology.xml\n",
      "C:/Users/midingoy/Documents/THESE/pycropml_pheno/test/Tutorial/pheno_pkg\\crop2ml\\composition.Phenology.xml\n",
      "C:/Users/midingoy/Documents/THESE/pycropml_pheno/test/Tutorial/pheno_pkg\\crop2ml\\composition.Phenology.xml\n",
      "C:/Users/midingoy/Documents/THESE/pycropml_pheno/test/Tutorial/pheno_pkg\\crop2ml\\composition.Phenology.xml\n",
      "C:/Users/midingoy/Documents/THESE/pycropml_pheno/test/Tutorial/pheno_pkg\\crop2ml\\composition.Phenology.xml\n",
      "C:/Users/midingoy/Documents/THESE/pycropml_pheno/test/Tutorial/pheno_pkg\\crop2ml\\composition.Phenology.xml\n"
     ]
    },
    {
     "data": {
      "text/plain": [
       "0"
      ]
     },
     "execution_count": 2,
     "metadata": {},
     "output_type": "execute_result"
    }
   ],
   "source": [
    "transpile_package(pkg1, \"cs\")"
   ]
  },
  {
   "cell_type": "code",
   "execution_count": null,
   "metadata": {},
   "outputs": [],
   "source": []
  }
 ],
 "metadata": {
  "kernelspec": {
   "display_name": "Python 3",
   "language": "python",
   "name": "python3"
  },
  "language_info": {
   "codemirror_mode": {
    "name": "ipython",
    "version": 3
   },
   "file_extension": ".py",
   "mimetype": "text/x-python",
   "name": "python",
   "nbconvert_exporter": "python",
   "pygments_lexer": "ipython3",
   "version": "3.7.1"
  }
 },
 "nbformat": 4,
 "nbformat_minor": 2
}
