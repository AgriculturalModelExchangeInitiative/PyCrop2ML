{
 "cells": [
  {
   "cell_type": "code",
   "execution_count": 8,
   "metadata": {},
   "outputs": [
    {
     "ename": "Microsoft.CodeAnalysis.Scripting.CompilationErrorException",
     "evalue": "(8,12): error CS1525: Invalid expression term '['",
     "execution_count": 8,
     "output_type": "error",
     "traceback": [
      "(8,12): error CS1525: Invalid expression term '['",
      "   à Microsoft.CodeAnalysis.Scripting.Script.CompilationError(DiagnosticBag diagnostics)\r",
      "   à Microsoft.CodeAnalysis.Scripting.Script.GetExecutor(CancellationToken cancellationToken)\r",
      "   à Microsoft.CodeAnalysis.Scripting.Script.TryRunFrom(ScriptState state, ScriptExecutionState& executionState, Object& value)\r",
      "   à Microsoft.CodeAnalysis.Scripting.Script.Run(Object globals)\r",
      "   à Microsoft.CodeAnalysis.Scripting.Script.Run(Object globals)\r",
      "   à ScriptCs.Engine.Roslyn.CSharpScriptEngine.GetScriptState(String code, Object globals) dans C:\\Users\\midingoy\\Documents\\THESE\\icsharp\\Engine\\src\\ScriptCs.Engine.Roslyn\\CSharpScriptEngine.cs:ligne 18\r",
      "   à ScriptCs.Engine.Roslyn.CommonScriptEngine.Execute(String code, Object globals, SessionState`1 sessionState) dans C:\\Users\\midingoy\\Documents\\THESE\\icsharp\\Engine\\src\\ScriptCs.Engine.Roslyn\\CommonScriptEngine.cs:ligne 158"
     ]
    }
   ],
   "source": [
    "using System;\n",
    "using System.Collections.Generic;\n",
    "using System.Linq;\n",
    "public class Test\n",
    "{\n",
    "    public static int addition(int a, int b)\n",
    "    {\n",
    "        int res;\n",
    "        res = a + b;\n",
    "        List<int> ac;\n",
    "        ac=[12,2];\n",
    "        return res;\n",
    "    }\n",
    "    public static void Main()\n",
    "    {\n",
    "        Console.WriteLine(addition(2, 5));\n",
    "    }\n",
    "}"
   ]
  },
  {
   "cell_type": "code",
   "execution_count": 3,
   "metadata": {},
   "outputs": [
    {
     "data": {
      "text/html": [
       "7"
      ],
      "text/plain": [
       "7"
      ]
     },
     "execution_count": 3,
     "metadata": {},
     "output_type": "display_data"
    }
   ],
   "source": [
    "Test.Main()"
   ]
  },
  {
   "cell_type": "code",
   "execution_count": null,
   "metadata": {},
   "outputs": [],
   "source": []
  }
 ],
 "metadata": {
  "kernelspec": {
   "display_name": "C#",
   "language": "csharp",
   "name": "csharp"
  },
  "language_info": {
   "name": ""
  }
 },
 "nbformat": 4,
 "nbformat_minor": 2
}
