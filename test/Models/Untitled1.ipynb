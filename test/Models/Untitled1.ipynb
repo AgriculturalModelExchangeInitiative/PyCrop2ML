{
 "cells": [
  {
   "cell_type": "code",
   "execution_count": 17,
   "metadata": {},
   "outputs": [
    {
     "name": "stdout",
     "output_type": "stream",
     "text": [
      "           4\n"
     ]
    }
   ],
   "source": [
    "Module Test\n",
    "    IMPLICIT NONE\n",
    "CONTAINS\n",
    "\n",
    "    FUNCTION test2(b) RESULT(hh)\n",
    "        IMPLICIT NONE\n",
    "        INTEGER, INTENT(IN) :: b\n",
    "        INTEGER, DIMENSION(2,2) :: hh\n",
    "        INTEGER , DIMENSION(2 ):: k = (/2, 6/)\n",
    "        hh = reshape((/k, k/), shape(hh))\n",
    "    END FUNCTION test2\n",
    "\n",
    "END MODULE\n",
    "\n",
    "program ttt\n",
    "use Test\n",
    "INTEGER, DIMENSION(2,2) :: hh\n",
    "hh = test2(10)\n",
    "print *, size(hh)\n",
    "end program"
   ]
  },
  {
   "cell_type": "code",
   "execution_count": 18,
   "metadata": {},
   "outputs": [
    {
     "name": "stderr",
     "output_type": "stream",
     "text": [
      "f951.exe: Error: Unexpected end of file in 'C:\\Users\\midingoy\\AppData\\Local\\Temp\\tmpu8k042vb.f90'\n",
      "[Fortran kernel] gfortran exited with code 1, the executable will not be executed"
     ]
    }
   ],
   "source": []
  },
  {
   "cell_type": "code",
   "execution_count": null,
   "metadata": {},
   "outputs": [],
   "source": []
  }
 ],
 "metadata": {
  "kernelspec": {
   "display_name": "Fortran",
   "language": "Fortran",
   "name": "fortran_spec"
  },
  "language_info": {
   "file_extension": "f90",
   "mimetype": "text/plain",
   "name": "fortran"
  }
 },
 "nbformat": 4,
 "nbformat_minor": 4
}
