{
 "cells": [
  {
   "cell_type": "markdown",
   "metadata": {},
   "source": [
    "# Automatic generation of Notebook using PyCropML\n",
    "    This notebook implements a crop model."
   ]
  },
  {
   "cell_type": "markdown",
   "metadata": {},
   "source": [
    "### Model Ismomentregistredzc_39"
   ]
  },
  {
   "cell_type": "code",
   "execution_count": null,
   "metadata": {},
   "outputs": [],
   "source": [
    "# coding: utf8\n",
    "from pycropml.units import u\n",
    "from copy import copy\n",
    "from array import array\n",
    "\n",
    "import numpy\n",
    "from math import *\n",
    "\n",
    "def model_ismomentregistredzc_39(calendarMoments_t1 = [\"Sowing\"]):\n",
    "    \"\"\"\n",
    "     - Name: IsMomentRegistredZC_39 -Version: 1.0, -Time step: 1\n",
    "     - Description:\n",
    "                 * Title: Is FlagLeafLiguleJustVisible Model\n",
    "                 * Author: Pierre Martre\n",
    "                 * Reference: Modeling development phase in the \n",
    "                     Wheat Simulation Model SiriusQuality.\n",
    "                     See documentation at http://www1.clermont.inra.fr/siriusquality/?page_id=427\n",
    "                 * Institution: INRA Montpellier\n",
    "                 * Abstract: if FlagLeafLiguleJustVisible is already Registred \n",
    "     - inputs:\n",
    "                 * name: calendarMoments_t1\n",
    "                               ** description : List containing appearance of each stage at previous time\n",
    "                               ** variablecategory : state\n",
    "                               ** datatype : STRINGLIST\n",
    "                               ** default : ['Sowing']\n",
    "                               ** unit : \n",
    "                               ** inputtype : variable\n",
    "     - outputs:\n",
    "                 * name: isMomentRegistredZC_39\n",
    "                               ** description :  if Flag leaf ligule has already appeared \n",
    "                               ** variablecategory : state\n",
    "                               ** datatype : INT\n",
    "                               ** min : 0\n",
    "                               ** max : 1\n",
    "                               ** unit : \n",
    "    \"\"\"\n",
    "\n",
    "    isMomentRegistredZC_39 = 1 if \"FlagLeafLiguleJustVisible\" in calendarMoments_t1 else 0\n",
    "    return isMomentRegistredZC_39"
   ]
  },
  {
   "cell_type": "code",
   "execution_count": null,
   "metadata": {},
   "outputs": [],
   "source": [
    "from pycropml.units import u"
   ]
  },
  {
   "cell_type": "code",
   "execution_count": null,
   "metadata": {},
   "outputs": [],
   "source": [
    "params= model_ismomentregistredzc_39(\n",
    "    calendarMoments_t1 = [\"Sowing\", \"Emergence\", \"FloralInitiation\", \"FlagLeafLiguleJustVisible\", \"Heading\", \"Anthesis\"]*u.,\n",
    "     )\n",
    "isMomentRegistredZC_39_estimated =params\n",
    "isMomentRegistredZC_39_computed = 1*u.\n",
    "assert isMomentRegistredZC_39_computed == isMomentRegistredZC_39_estimated"
   ]
  }
 ],
 "metadata": {},
 "nbformat": 4,
 "nbformat_minor": 4
}
