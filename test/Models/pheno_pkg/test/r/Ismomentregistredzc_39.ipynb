{
 "cells": [
  {
   "cell_type": "markdown",
   "metadata": {},
   "source": [
    "# Automatic generation of Notebook using PyCropML\n",
    "    This notebook implements a crop model."
   ]
  },
  {
   "cell_type": "markdown",
   "metadata": {},
   "source": [
    "### Model Ismomentregistredzc_39"
   ]
  },
  {
   "cell_type": "code",
   "execution_count": null,
   "metadata": {},
   "outputs": [],
   "source": [
    "model_ismomentregistredzc_39 <- function (calendarMoments_t1 = c('Sowing')){\n",
    "    #'- Name: IsMomentRegistredZC_39 -Version: 1.0, -Time step: 1\n",
    "    #'- Description:\n",
    "    #'            * Title: Is FlagLeafLiguleJustVisible Model\n",
    "    #'            * Author: Pierre Martre\n",
    "    #'            * Reference: Modeling development phase in the \n",
    "    #'                Wheat Simulation Model SiriusQuality.\n",
    "    #'                See documentation at http://www1.clermont.inra.fr/siriusquality/?page_id=427\n",
    "    #'            * Institution: INRA Montpellier\n",
    "    #'            * Abstract: if FlagLeafLiguleJustVisible is already Registred \n",
    "    #'- inputs:\n",
    "    #'            * name: calendarMoments_t1\n",
    "    #'                          ** description : List containing appearance of each stage at previous time\n",
    "    #'                          ** variablecategory : state\n",
    "    #'                          ** datatype : STRINGLIST\n",
    "    #'                          ** default : ['Sowing']\n",
    "    #'                          ** unit : \n",
    "    #'                          ** inputtype : variable\n",
    "    #'- outputs:\n",
    "    #'            * name: isMomentRegistredZC_39\n",
    "    #'                          ** description :  if Flag leaf ligule has already appeared \n",
    "    #'                          ** variablecategory : state\n",
    "    #'                          ** datatype : INT\n",
    "    #'                          ** min : 0\n",
    "    #'                          ** max : 1\n",
    "    #'                          ** unit : \n",
    "    isMomentRegistredZC_39 <-  if ('FlagLeafLiguleJustVisible' %in% calendarMoments_t1)1 else 0\n",
    "    return (list('isMomentRegistredZC_39' = isMomentRegistredZC_39))\n",
    "}"
   ]
  },
  {
   "cell_type": "code",
   "execution_count": null,
   "metadata": {},
   "outputs": [],
   "source": [
    "library(assertthat)\n",
    "\n",
    "\n",
    "test_test_wheat1<-function(){\n",
    "    params= model_ismomentregistredzc_39(\n",
    "        calendarMoments_t1 = c(\"Sowing\",\"Emergence\",\"FloralInitiation\",\"FlagLeafLiguleJustVisible\",\"Heading\",\"Anthesis\")\n",
    "        )\n",
    "    isMomentRegistredZC_39_estimated = params$isMomentRegistredZC_39\n",
    "    isMomentRegistredZC_39_computed = 1\n",
    "    assert_that(all.equal(isMomentRegistredZC_39_estimated, isMomentRegistredZC_39_computed)==TRUE)\n",
    "}\n",
    "test_test_wheat1()"
   ]
  }
 ],
 "metadata": {},
 "nbformat": 4,
 "nbformat_minor": 4
}
