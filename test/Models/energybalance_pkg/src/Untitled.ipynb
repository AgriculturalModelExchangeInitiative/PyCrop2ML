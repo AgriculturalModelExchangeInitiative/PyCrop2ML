{
 "cells": [
  {
   "cell_type": "code",
   "execution_count": 3,
   "metadata": {},
   "outputs": [],
   "source": [
    "import  java.io.*;\n",
    "import  java.util.*;\n",
    "public class Test\n",
    "{\n",
    "    public static double AFGEN1(int n, Double [] xy, double t)\n",
    "    {\n",
    "        double res;\n",
    "        double x1;\n",
    "        double x2;\n",
    "        double y1;\n",
    "        double y2;\n",
    "        int i;\n",
    "        res = Double.NaN;\n",
    "        if (n > 1)\n",
    "        {\n",
    "            i = 0;\n",
    "            while ( i < n - 1 && t >= xy[i])\n",
    "            {\n",
    "                i = i + 2;\n",
    "            }\n",
    "            if (i == 0)\n",
    "            {\n",
    "                res = xy[1];\n",
    "            }\n",
    "            else if ( i > n - 2)\n",
    "            {\n",
    "                res = xy[i - 1];\n",
    "            }\n",
    "            else\n",
    "            {\n",
    "                x1 = xy[i - 2];\n",
    "                x2 = xy[i];\n",
    "                y1 = xy[i - 1];\n",
    "                y2 = xy[i + 1];\n",
    "                res = (y2 - y1) / (x2 - x1) * (t - x1) + y1;\n",
    "            }\n",
    "        }\n",
    "        return res;\n",
    "    }\n",
    "    public static double AFGEN2(int nx, int ny, Double [] x, Double [] y, double t)\n",
    "    {\n",
    "        double res;\n",
    "        double x1;\n",
    "        double x2;\n",
    "        double y1;\n",
    "        double y2;\n",
    "        int n;\n",
    "        int i;\n",
    "        n = Math.min(x.length, y.length);\n",
    "        res = Double.NaN;\n",
    "        if (n > 0)\n",
    "        {\n",
    "            i = 0;\n",
    "            while ( i < n && t >= x[i])\n",
    "            {\n",
    "                i = i + 1;\n",
    "            }\n",
    "            if (i == 0)\n",
    "            {\n",
    "                res = y[0];\n",
    "            }\n",
    "            else if ( i == n)\n",
    "            {\n",
    "                res = y[n - 1];\n",
    "            }\n",
    "            else\n",
    "            {\n",
    "                x1 = x[i - 1];\n",
    "                x2 = x[i];\n",
    "                y1 = y[i - 1];\n",
    "                y2 = y[i];\n",
    "                res = (y2 - y1) / (x2 - x1) * (t - x1) + y1;\n",
    "            }\n",
    "        }\n",
    "        return res;\n",
    "    }\n",
    "    public static double AFGEN3(TreeMap<Double,Double> xy, double t)\n",
    "    {\n",
    "        Double[] x= new Double[xy.size()];\n",
    "        Double[] y= new Double[xy.size()];\n",
    "        int i = 0;\n",
    "        double res;\n",
    "        int l;\n",
    "        l = xy.size();\n",
    "        for(Double tKey : xy.keySet())\n",
    "        {\n",
    "            x[i] = tKey;\n",
    "            y[i] = xy.get(tKey);\n",
    "            i = i + 1;\n",
    "        }\n",
    "        res = AFGEN2(l, l, x, y, t);\n",
    "        return res;\n",
    "    }\n",
    "}"
   ]
  },
  {
   "cell_type": "code",
   "execution_count": 4,
   "metadata": {},
   "outputs": [
    {
     "data": {
      "text/plain": [
       "17.599999999999998"
      ]
     },
     "execution_count": 4,
     "metadata": {},
     "output_type": "execute_result"
    }
   ],
   "source": [
    "Test.AFGEN1(4, new Double[]{14.,17.,15.,20.} , 14.2);"
   ]
  },
  {
   "cell_type": "code",
   "execution_count": 2,
   "metadata": {},
   "outputs": [
    {
     "ename": "CompilationException",
     "evalue": "",
     "output_type": "error",
     "traceback": [
      "\u001b[1m\u001b[30m|   \u001b[1m\u001b[30m        List<Integer> a = \u001b[0m\u001b[1m\u001b[30m\u001b[41mnew ArrayList()\u001b[0m\u001b[1m\u001b[30m;\u001b[0m",
      "\u001b[1m\u001b[31munchecked conversion\u001b[0m",
      "\u001b[1m\u001b[31m  required: java.util.List<java.lang.Integer>\u001b[0m",
      "\u001b[1m\u001b[31m  found:    java.util.ArrayList\u001b[0m",
      "",
      "\u001b[1m\u001b[30m|   \u001b[1m\u001b[30m\u001b[0m",
      "\u001b[1m\u001b[30m|   \u001b[1m\u001b[30mpublic class Test\u001b[0m",
      "\u001b[1m\u001b[30m|   \u001b[1m\u001b[30m{\u001b[0m",
      "\u001b[1m\u001b[30m|   \u001b[1m\u001b[30m    public static List<Integer> AFGEN1(integer t)\u001b[0m",
      "\u001b[1m\u001b[30m|   \u001b[1m\u001b[30m    {\u001b[0m",
      "\u001b[1m\u001b[30m|   \u001b[1m\u001b[30m        List<Integer> a = new ArrayList();\u001b[0m",
      "\u001b[1m\u001b[30m|   \u001b[1m\u001b[30m        a.add(0);\u001b[0m",
      "\u001b[1m\u001b[30m|   \u001b[1m\u001b[30m        return a;\u001b[0m",
      "\u001b[1m\u001b[30m|   \u001b[1m\u001b[30m    }\u001b[0m",
      "\u001b[1m\u001b[30m|   \u001b[1m\u001b[30m}\u001b[0m",
      "\u001b[1m\u001b[31mUnresolved dependencies:\u001b[0m",
      "\u001b[1m\u001b[31m   - class integer\u001b[0m"
     ]
    }
   ],
   "source": [
    "import  java.io.*;\n",
    "import  java.util.*;\n",
    "public class Test\n",
    "{\n",
    "    public static List<Integer> AFGEN1(integer t)\n",
    "    {\n",
    "        List<Integer> a = new ArrayList();\n",
    "        a.add(0);\n",
    "        return a;\n",
    "    }\n",
    "}"
   ]
  },
  {
   "cell_type": "code",
   "execution_count": 31,
   "metadata": {},
   "outputs": [
    {
     "data": {
      "text/plain": [
       "[5]"
      ]
     },
     "execution_count": 31,
     "metadata": {},
     "output_type": "execute_result"
    }
   ],
   "source": [
    "Test.AFGEN1(5)"
   ]
  },
  {
   "cell_type": "code",
   "execution_count": null,
   "metadata": {},
   "outputs": [],
   "source": []
  }
 ],
 "metadata": {
  "kernelspec": {
   "display_name": "Java",
   "language": "java",
   "name": "java"
  },
  "language_info": {
   "codemirror_mode": "java",
   "file_extension": ".java",
   "mimetype": "text/x-java-source",
   "name": "Java",
   "pygments_lexer": "java",
   "version": "11+28"
  }
 },
 "nbformat": 4,
 "nbformat_minor": 2
}
