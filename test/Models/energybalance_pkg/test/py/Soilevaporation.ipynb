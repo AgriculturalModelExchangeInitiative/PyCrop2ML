{
 "cells": [
  {
   "cell_type": "markdown",
   "metadata": {},
   "source": [
    "# Automatic generation of Notebook using PyCropML\n",
    "    This notebook implements a crop model."
   ]
  },
  {
   "cell_type": "markdown",
   "metadata": {},
   "source": [
    "### Model Soilevaporation"
   ]
  },
  {
   "cell_type": "code",
   "execution_count": null,
   "metadata": {},
   "outputs": [],
   "source": [
    "# coding: utf8\n",
    "from pycropml.units import u\n",
    "from copy import copy\n",
    "from array import array\n",
    "\n",
    "import numpy\n",
    "from math import *\n",
    "\n",
    "def model_soilevaporation(diffusionLimitedEvaporation = 6605.505,\n",
    "         energyLimitedEvaporation = 448.24):\n",
    "    \"\"\"\n",
    "     - Name: SoilEvaporation -Version: 1.0, -Time step: 1\n",
    "     - Description:\n",
    "                 * Title: SoilEvaporation Model\n",
    "                 * Author: Pierre Martre\n",
    "                 * Reference: Modelling energy balance in the wheat crop model SiriusQuality2:\n",
    "                 Evapotranspiration and canopy and soil temperature calculations\n",
    "                 * Institution: INRA Montpellier\n",
    "                 * Abstract: Starting from a soil at field capacity, soil evaporation  is assumed to\n",
    "                     be energy limited during the first phase of evaporation and diffusion limited thereafter.\n",
    "                     Hence, the soil evaporation model considers these two processes taking the minimum between\n",
    "                     the energy limited evaporation (PtSoil) and the diffused limited\n",
    "                     evaporation \n",
    "     - inputs:\n",
    "                 * name: diffusionLimitedEvaporation\n",
    "                               ** description : diffusion Limited Evaporation\n",
    "                               ** variablecategory : state\n",
    "                               ** datatype : DOUBLE\n",
    "                               ** default : 6605.505\n",
    "                               ** min : 0\n",
    "                               ** max : 10000\n",
    "                               ** unit : g m-2 d-1\n",
    "                               ** uri : http://www1.clermont.inra.fr/siriusquality/?page_id=547\n",
    "                               ** inputtype : variable\n",
    "                 * name: energyLimitedEvaporation\n",
    "                               ** description : energy Limited Evaporation\n",
    "                               ** variablecategory : state\n",
    "                               ** datatype : DOUBLE\n",
    "                               ** default : 448.240\n",
    "                               ** min : 0\n",
    "                               ** max : 1000\n",
    "                               ** unit : g m-2 d-1\n",
    "                               ** uri : http://www1.clermont.inra.fr/siriusquality/?page_id=547\n",
    "                               ** inputtype : variable\n",
    "     - outputs:\n",
    "                 * name: soilEvaporation\n",
    "                               ** description : soil Evaporation\n",
    "                               ** variablecategory : auxiliary\n",
    "                               ** datatype : DOUBLE\n",
    "                               ** min : 0\n",
    "                               ** max : 5000\n",
    "                               ** unit : g m-2 d-1\n",
    "                               ** uri : http://www1.clermont.inra.fr/siriusquality/?page_id=547\n",
    "    \"\"\"\n",
    "\n",
    "    soilEvaporation = min(diffusionLimitedEvaporation, energyLimitedEvaporation)\n",
    "    return soilEvaporation"
   ]
  },
  {
   "cell_type": "code",
   "execution_count": null,
   "metadata": {},
   "outputs": [],
   "source": [
    "from pycropml.units import u"
   ]
  },
  {
   "cell_type": "code",
   "execution_count": null,
   "metadata": {},
   "outputs": [],
   "source": [
    "params= model_soilevaporation(\n",
    "    diffusionLimitedEvaporation = 6605.505*u.g m-2 d-1,\n",
    "    energyLimitedEvaporation = 448.240*u.g m-2 d-1,\n",
    "     )\n",
    "soilEvaporation_estimated =params.round(3)*params.units\n",
    "soilEvaporation_computed = 448.240*u.g m-2 d-1\n",
    "assert soilEvaporation_computed == soilEvaporation_estimated"
   ]
  }
 ],
 "metadata": {},
 "nbformat": 4,
 "nbformat_minor": 4
}
