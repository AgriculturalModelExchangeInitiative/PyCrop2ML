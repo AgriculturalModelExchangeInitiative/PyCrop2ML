{
 "cells": [
  {
   "cell_type": "markdown",
   "metadata": {},
   "source": [
    "# Automatic generation of Notebook using PyCropML\n",
    "    This notebook implements a crop model."
   ]
  },
  {
   "cell_type": "markdown",
   "metadata": {},
   "source": [
    "### Model Potentialtranspiration"
   ]
  },
  {
   "cell_type": "code",
   "execution_count": null,
   "metadata": {},
   "outputs": [],
   "source": [
    "# coding: utf8\n",
    "from pycropml.units import u\n",
    "from copy import copy\n",
    "from array import array\n",
    "\n",
    "import numpy\n",
    "from math import *\n",
    "\n",
    "def model_potentialtranspiration(evapoTranspiration = 830.958,\n",
    "         tau = 0.9983):\n",
    "    \"\"\"\n",
    "     - Name: PotentialTranspiration -Version: 1.0, -Time step: 1\n",
    "     - Description:\n",
    "                 * Title: PotentialTranspiration Model\n",
    "                 * Author: Pierre Martre\n",
    "                 * Reference: Modelling energy balance in the wheat crop model SiriusQuality2:\n",
    "                 Evapotranspiration and canopy and soil temperature calculations\n",
    "                 * Institution: INRA/LEPSE Montpellier\n",
    "                 * Abstract: SiriusQuality2 uses availability of water from the soil reservoir as a method to restrict\n",
    "                         transpiration as soil moisture is depleted \n",
    "     - inputs:\n",
    "                 * name: evapoTranspiration\n",
    "                               ** description : evapoTranspiration\n",
    "                               ** variablecategory : rate\n",
    "                               ** datatype : DOUBLE\n",
    "                               ** default : 830.958\n",
    "                               ** min : 0\n",
    "                               ** max : 10000\n",
    "                               ** unit : mm\n",
    "                               ** uri : http://www1.clermont.inra.fr/siriusquality/?page_id=547\n",
    "                               ** inputtype : variable\n",
    "                 * name: tau\n",
    "                               ** description : plant cover factor\n",
    "                               ** parametercategory : species\n",
    "                               ** datatype : DOUBLE\n",
    "                               ** default : 0.9983\n",
    "                               ** min : 0\n",
    "                               ** max : 1\n",
    "                               ** unit : \n",
    "                               ** uri : http://www1.clermont.inra.fr/siriusquality/?page_id=547\n",
    "                               ** inputtype : parameter\n",
    "     - outputs:\n",
    "                 * name: potentialTranspiration\n",
    "                               ** description : potential Transpiration \n",
    "                               ** variablecategory : rate\n",
    "                               ** datatype : DOUBLE\n",
    "                               ** min : 0\n",
    "                               ** max : 10000\n",
    "                               ** unit : g m-2 d-1\n",
    "                               ** uri : http://www1.clermont.inra.fr/siriusquality/?page_id=547\n",
    "    \"\"\"\n",
    "\n",
    "    potentialTranspiration = evapoTranspiration * (1.0 - tau)\n",
    "    return potentialTranspiration"
   ]
  },
  {
   "cell_type": "code",
   "execution_count": null,
   "metadata": {},
   "outputs": [],
   "source": [
    "from pycropml.units import u"
   ]
  },
  {
   "cell_type": "code",
   "execution_count": null,
   "metadata": {},
   "outputs": [],
   "source": [
    "params= model_potentialtranspiration(\n",
    "    tau = 0.9983*u.,\n",
    "    evapoTranspiration = 830.958*u.mm,\n",
    "     )\n",
    "potentialTranspiration_estimated =params.round(3)*params.units\n",
    "potentialTranspiration_computed = 1.413*u.g m-2 d-1\n",
    "assert potentialTranspiration_computed == potentialTranspiration_estimated"
   ]
  }
 ],
 "metadata": {},
 "nbformat": 4,
 "nbformat_minor": 4
}
