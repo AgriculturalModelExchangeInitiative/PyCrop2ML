{
 "cells": [
  {
   "cell_type": "markdown",
   "metadata": {},
   "source": [
    "# Automatic generation of Notebook using PyCropML\n",
    "    This notebook implements a crop model."
   ]
  },
  {
   "cell_type": "markdown",
   "metadata": {},
   "source": [
    "### Model Soilheatflux"
   ]
  },
  {
   "cell_type": "code",
   "execution_count": null,
   "metadata": {},
   "outputs": [],
   "source": [
    "# coding: utf8\n",
    "from pycropml.units import u\n",
    "from copy import copy\n",
    "from array import array\n",
    "\n",
    "import numpy\n",
    "from math import *\n",
    "\n",
    "def model_soilheatflux(netRadiationEquivalentEvaporation = 638.142,\n",
    "         tau = 0.9983,\n",
    "         soilEvaporation = 448.24):\n",
    "    \"\"\"\n",
    "     - Name: SoilHeatFlux -Version: 1.0, -Time step: 1\n",
    "     - Description:\n",
    "                 * Title: SoilHeatFlux Model\n",
    "                 * Author: Pierre Martre\n",
    "                 * Reference: Modelling energy balance in the wheat crop model SiriusQuality2:\n",
    "                 Evapotranspiration and canopy and soil temperature calculations\n",
    "                 * Institution: INRA/LEPSE Montpellier\n",
    "                 * Abstract: The available energy in the soil \n",
    "     - inputs:\n",
    "                 * name: netRadiationEquivalentEvaporation\n",
    "                               ** variablecategory : state\n",
    "                               ** description : net Radiation Equivalent Evaporation\n",
    "                               ** datatype : DOUBLE\n",
    "                               ** default : 638.142\n",
    "                               ** min : 0\n",
    "                               ** max : 5000\n",
    "                               ** unit : g m-2 d-1\n",
    "                               ** uri : http://www1.clermont.inra.fr/siriusquality/?page_id=547\n",
    "                               ** inputtype : variable\n",
    "                 * name: tau\n",
    "                               ** description : plant cover factor\n",
    "                               ** parametercategory : species\n",
    "                               ** datatype : DOUBLE\n",
    "                               ** default : 0.9983\n",
    "                               ** min : 0\n",
    "                               ** max : 100\n",
    "                               ** unit : \n",
    "                               ** uri : http://www1.clermont.inra.fr/siriusquality/?page_id=547\n",
    "                               ** inputtype : parameter\n",
    "                 * name: soilEvaporation\n",
    "                               ** description : soil Evaporation\n",
    "                               ** variablecategory : state\n",
    "                               ** datatype : DOUBLE\n",
    "                               ** default : 448.240\n",
    "                               ** min : 0\n",
    "                               ** max : 10000\n",
    "                               ** unit : g m-2 d-1\n",
    "                               ** uri : http://www1.clermont.inra.fr/siriusquality/?page_id=547\n",
    "                               ** inputtype : variable\n",
    "     - outputs:\n",
    "                 * name: soilHeatFlux\n",
    "                               ** description : soil Heat Flux \n",
    "                               ** variablecategory : rate\n",
    "                               ** datatype : DOUBLE\n",
    "                               ** min : 0\n",
    "                               ** max : 10000\n",
    "                               ** unit : g m-2 d-1\n",
    "                               ** uri : http://www1.clermont.inra.fr/siriusquality/?page_id=547\n",
    "    \"\"\"\n",
    "\n",
    "    soilHeatFlux = tau * netRadiationEquivalentEvaporation - soilEvaporation\n",
    "    return soilHeatFlux"
   ]
  },
  {
   "cell_type": "code",
   "execution_count": null,
   "metadata": {},
   "outputs": [],
   "source": [
    "from pycropml.units import u"
   ]
  },
  {
   "cell_type": "code",
   "execution_count": null,
   "metadata": {},
   "outputs": [],
   "source": [
    "params= model_soilheatflux(\n",
    "    tau = 0.9983*u.,\n",
    "    netRadiationEquivalentEvaporation = 638.142*u.g m-2 d-1,\n",
    "    soilEvaporation = 448.240*u.g m-2 d-1,\n",
    "     )\n",
    "soilHeatFlux_estimated =params.round(3)*params.units\n",
    "soilHeatFlux_computed = 188.817*u.g m-2 d-1\n",
    "assert soilHeatFlux_computed == soilHeatFlux_estimated"
   ]
  }
 ],
 "metadata": {},
 "nbformat": 4,
 "nbformat_minor": 4
}
