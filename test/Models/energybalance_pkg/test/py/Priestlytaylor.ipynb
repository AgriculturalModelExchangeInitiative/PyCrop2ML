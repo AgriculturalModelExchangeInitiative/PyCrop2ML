{
 "cells": [
  {
   "cell_type": "markdown",
   "metadata": {},
   "source": [
    "# Automatic generation of Notebook using PyCropML\n",
    "    This notebook implements a crop model."
   ]
  },
  {
   "cell_type": "markdown",
   "metadata": {},
   "source": [
    "### Model Priestlytaylor"
   ]
  },
  {
   "cell_type": "code",
   "execution_count": null,
   "metadata": {},
   "outputs": [],
   "source": [
    "# coding: utf8\n",
    "from pycropml.units import u\n",
    "from copy import copy\n",
    "from array import array\n",
    "\n",
    "import numpy\n",
    "from math import *\n",
    "\n",
    "def model_priestlytaylor(netRadiationEquivalentEvaporation = 638.142,\n",
    "         hslope = 0.584,\n",
    "         psychrometricConstant = 0.66,\n",
    "         Alpha = 1.5):\n",
    "    \"\"\"\n",
    "     - Name: PriestlyTaylor -Version: 1.0, -Time step: 1\n",
    "     - Description:\n",
    "                 * Title: evapoTranspirationPriestlyTaylor  Model\n",
    "                 * Author: Pierre Martre\n",
    "                 * Reference: Modelling energy balance in the wheat crop model SiriusQuality2:\n",
    "                 Evapotranspiration and canopy and soil temperature calculations\n",
    "                 * Institution: INRA Montpellier\n",
    "                 * Abstract: Calculate Energy Balance \n",
    "     - inputs:\n",
    "                 * name: netRadiationEquivalentEvaporation\n",
    "                               ** description : net Radiation in Equivalent Evaporation\n",
    "                               ** variablecategory : state\n",
    "                               ** datatype : DOUBLE\n",
    "                               ** default : 638.142\n",
    "                               ** min : 0\n",
    "                               ** max : 5000\n",
    "                               ** unit : g m-2 d-1\n",
    "                               ** uri : http://www1.clermont.inra.fr/siriusquality/?page_id=547\n",
    "                               ** inputtype : variable\n",
    "                 * name: hslope\n",
    "                               ** description : the slope of saturated vapor pressure temperature curve at a given temperature \n",
    "                               ** variablecategory : auxiliary\n",
    "                               ** datatype : DOUBLE\n",
    "                               ** default : 0.584\n",
    "                               ** min : 0\n",
    "                               ** max : 1000\n",
    "                               ** unit : hPa °C-1\n",
    "                               ** uri : http://www1.clermont.inra.fr/siriusquality/?page_id=547\n",
    "                               ** inputtype : variable\n",
    "                 * name: psychrometricConstant\n",
    "                               ** description : psychrometric constant\n",
    "                               ** parametercategory : constant\n",
    "                               ** datatype : DOUBLE\n",
    "                               ** default : 0.66\n",
    "                               ** min : 0\n",
    "                               ** max : 1\n",
    "                               ** unit : \n",
    "                               ** uri : http://www1.clermont.inra.fr/siriusquality/?page_id=547\n",
    "                               ** inputtype : parameter\n",
    "                 * name: Alpha\n",
    "                               ** description : Priestley-Taylor evapotranspiration proportionality constant\n",
    "                               ** parametercategory : constant\n",
    "                               ** datatype : DOUBLE\n",
    "                               ** default : 1.5\n",
    "                               ** min : 0\n",
    "                               ** max : 100\n",
    "                               ** unit : \n",
    "                               ** uri : http://www1.clermont.inra.fr/siriusquality/?page_id=547\n",
    "                               ** inputtype : parameter\n",
    "     - outputs:\n",
    "                 * name: evapoTranspirationPriestlyTaylor\n",
    "                               ** description : evapoTranspiration of Priestly Taylor \n",
    "                               ** variablecategory : rate\n",
    "                               ** datatype : DOUBLE\n",
    "                               ** min : 0\n",
    "                               ** max : 10000\n",
    "                               ** unit : g m-2 d-1\n",
    "                               ** uri : http://www1.clermont.inra.fr/siriusquality/?page_id=547\n",
    "    \"\"\"\n",
    "\n",
    "    evapoTranspirationPriestlyTaylor = max(Alpha * hslope * netRadiationEquivalentEvaporation / (hslope + psychrometricConstant), 0.0)\n",
    "    return evapoTranspirationPriestlyTaylor"
   ]
  },
  {
   "cell_type": "code",
   "execution_count": null,
   "metadata": {},
   "outputs": [],
   "source": [
    "from pycropml.units import u"
   ]
  },
  {
   "cell_type": "code",
   "execution_count": null,
   "metadata": {},
   "outputs": [],
   "source": [
    "params= model_priestlytaylor(\n",
    "    Alpha = 1.5*u.,\n",
    "    netRadiationEquivalentEvaporation = 638.142*u.g m-2 d-1,\n",
    "     )\n",
    "evapoTranspirationPriestlyTaylor_estimated =params.round(3)*params.units\n",
    "evapoTranspirationPriestlyTaylor_computed = 449.367*u.g m-2 d-1\n",
    "assert evapoTranspirationPriestlyTaylor_computed == evapoTranspirationPriestlyTaylor_estimated"
   ]
  }
 ],
 "metadata": {},
 "nbformat": 4,
 "nbformat_minor": 4
}
