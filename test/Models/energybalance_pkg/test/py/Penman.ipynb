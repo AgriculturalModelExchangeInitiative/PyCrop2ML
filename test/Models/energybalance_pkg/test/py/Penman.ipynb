{
 "cells": [
  {
   "cell_type": "markdown",
   "metadata": {},
   "source": [
    "# Automatic generation of Notebook using PyCropML\n",
    "    This notebook implements a crop model."
   ]
  },
  {
   "cell_type": "markdown",
   "metadata": {},
   "source": [
    "### Model Penman"
   ]
  },
  {
   "cell_type": "code",
   "execution_count": 38,
   "metadata": {},
   "outputs": [],
   "source": [
    "# coding: utf8\n",
    "from pycropml.units import u\n",
    "from copy import copy\n",
    "from array import array\n",
    "\n",
    "import numpy\n",
    "from math import *\n",
    "\n",
    "def model_penman(evapoTranspirationPriestlyTaylor = 449.367*(u.g/u.m**2)/u.d,\n",
    "         hslope = 0.584*u.hPa/u.degC,\n",
    "         VPDair = 2.19*u.hPa,\n",
    "         psychrometricConstant = 0.66*u.hPa/u.degC,\n",
    "         Alpha = 1.5,\n",
    "         lambdaV = 2.454*u.MJ/u.kg,\n",
    "         rhoDensityAir = 1.225*u.kg/u.m**3,\n",
    "         specificHeatCapacityAir = 0.00101*(u.MJ/u.kg)/u.degC,\n",
    "         conductance = 598.685*u.m/u.d):\n",
    "    \"\"\"\n",
    "     - Name: Penman -Version: 1.0, -Time step: 1\n",
    "     - Description:\n",
    "                 * Title: Penman Model\n",
    "                 * Author: Pierre Martre\n",
    "                 * Reference: Modelling energy balance in the wheat crop model SiriusQuality2:\n",
    "                 Evapotranspiration and canopy and soil temperature calculations\n",
    "                 * Institution: INRA/LEPSE Montpellier\n",
    "                 * Abstract: This method is used when wind and vapor pressure daily data are available\n",
    "             \n",
    "     - inputs:\n",
    "                 * name: evapoTranspirationPriestlyTaylor\n",
    "                               ** description : evapoTranspiration of Priestly Taylor \n",
    "                               ** variablecategory : rate\n",
    "                               ** datatype : DOUBLE\n",
    "                               ** default : 449.367\n",
    "                               ** min : 0\n",
    "                               ** max : 10000\n",
    "                               ** unit : g/m**2/d\n",
    "                               ** uri : http://www1.clermont.inra.fr/siriusquality/?page_id=547\n",
    "                               ** inputtype : variable\n",
    "                 * name: hslope\n",
    "                               ** description : the slope of saturated vapor pressure temperature curve at a given temperature \n",
    "                               ** variablecategory : auxiliary\n",
    "                               ** datatype : DOUBLE\n",
    "                               ** default : 0.584\n",
    "                               ** min : 0\n",
    "                               ** max : 1000\n",
    "                               ** unit : hPa/degC\n",
    "                               ** uri : http://www1.clermont.inra.fr/siriusquality/?page_id=547\n",
    "                               ** inputtype : variable\n",
    "                 * name: VPDair\n",
    "                               ** description :  vapour pressure density\n",
    "                               ** variablecategory : auxiliary\n",
    "                               ** datatype : DOUBLE\n",
    "                               ** default : 2.19\n",
    "                               ** min : 0\n",
    "                               ** max : 1000\n",
    "                               ** unit : hPa\n",
    "                               ** uri : http://www1.clermont.inra.fr/siriusquality/?page_id=547\n",
    "                               ** inputtype : variable\n",
    "                 * name: psychrometricConstant\n",
    "                               ** description : psychrometric constant\n",
    "                               ** parametercategory : constant\n",
    "                               ** datatype : DOUBLE\n",
    "                               ** default : 0.66\n",
    "                               ** min : 0\n",
    "                               ** max : 1\n",
    "                               ** unit : hPa/degC\n",
    "                               ** uri : http://www1.clermont.inra.fr/siriusquality/?page_id=547\n",
    "                               ** inputtype : parameter\n",
    "                 * name: Alpha\n",
    "                               ** description : Priestley-Taylor evapotranspiration proportionality constant\n",
    "                               ** parametercategory : constant\n",
    "                               ** datatype : DOUBLE\n",
    "                               ** default : 1.5\n",
    "                               ** min : 0\n",
    "                               ** max : 100\n",
    "                               ** unit : \n",
    "                               ** uri : http://www1.clermont.inra.fr/siriusquality/?page_id=547\n",
    "                               ** inputtype : parameter\n",
    "                 * name: lambdaV\n",
    "                               ** description : latent heat of vaporization of water\n",
    "                               ** parametercategory : constant\n",
    "                               ** datatype : DOUBLE\n",
    "                               ** default : 2.454\n",
    "                               ** min : 0\n",
    "                               ** max : 10\n",
    "                               ** unit : MJ/kg\n",
    "                               ** uri : http://www1.clermont.inra.fr/siriusquality/?page_id=547\n",
    "                               ** inputtype : parameter\n",
    "                 * name: rhoDensityAir\n",
    "                               ** description : Density of air\n",
    "                               ** parametercategory : constant\n",
    "                               ** datatype : DOUBLE\n",
    "                               ** default : 1.225\n",
    "                               ** unit : kg*m**3\n",
    "                               ** uri : http://www1.clermont.inra.fr/siriusquality/?page_id=547\n",
    "                               ** inputtype : parameter\n",
    "                 * name: specificHeatCapacityAir\n",
    "                               ** description : Specific heat capacity of dry air\n",
    "                               ** parametercategory : constant\n",
    "                               ** datatype : DOUBLE\n",
    "                               ** default : 0.00101\n",
    "                               ** min : 0\n",
    "                               ** max : 1\n",
    "                               ** unit : MJ/kg/degC\n",
    "                               ** uri : http://www1.clermont.inra.fr/siriusquality/?page_id=547\n",
    "                               ** inputtype : parameter\n",
    "                 * name: conductance\n",
    "                               ** description : conductance\n",
    "                               ** variablecategory : state\n",
    "                               ** datatype : DOUBLE\n",
    "                               ** min : 0\n",
    "                               ** max : 10000\n",
    "                               ** default : 598.685\n",
    "                               ** unit : m/d\n",
    "                               ** uri : http://www1.clermont.inra.fr/siriusquality/?page_id=547\n",
    "                               ** inputtype : variable\n",
    "     - outputs:\n",
    "                 * name: evapoTranspirationPenman\n",
    "                               ** description :  evapoTranspiration of Penman Monteith\n",
    "                               ** variablecategory : rate\n",
    "                               ** datatype : DOUBLE\n",
    "                               ** min : 0\n",
    "                               ** max : 5000\n",
    "                               ** unit : g/m**2/d\n",
    "                               ** uri : http://www1.clermont.inra.fr/siriusquality/?page_id=547\n",
    "    \"\"\"\n",
    "\n",
    "    evapoTranspirationPenman = evapoTranspirationPriestlyTaylor / Alpha + (1000.0 * (rhoDensityAir * specificHeatCapacityAir * VPDair * conductance / (lambdaV * (hslope + psychrometricConstant))))\n",
    "    return evapoTranspirationPenman"
   ]
  },
  {
   "cell_type": "code",
   "execution_count": 39,
   "metadata": {},
   "outputs": [],
   "source": [
    "from pycropml.units import u"
   ]
  },
  {
   "cell_type": "code",
   "execution_count": 40,
   "metadata": {},
   "outputs": [],
   "source": [
    "params= model_penman(\n",
    "    Alpha = 1.5,\n",
    "    lambdaV = 2.454*u.MJ/u.kg,\n",
    "    evapoTranspirationPriestlyTaylor = 449.367*(u.g/u.m**2)/u.d,\n",
    "    hslope = 0.584*u.hPa/u.degC,\n",
    "    VPDair = 2.19*u.hPa,\n",
    "     )\n",
    "evapoTranspirationPenman_estimated =params.round(3)*params.units\n",
    "evapoTranspirationPenman_computed = 830.958*(u.g/u.m**2)/u.d\n",
    "assert evapoTranspirationPenman_computed == evapoTranspirationPenman_estimated"
   ]
  },
  {
   "cell_type": "code",
   "execution_count": null,
   "metadata": {},
   "outputs": [],
   "source": []
  },
  {
   "cell_type": "code",
   "execution_count": 42,
   "metadata": {},
   "outputs": [],
   "source": [
    "evapoTranspirationPriestlyTaylor = 449.367*(u.g/u.m**2)/u.d,\n",
    "hslope = 0.584*u.hPa/u.degC,\n",
    "VPDair = 2.19*u.hPa,\n",
    "psychrometricConstant = 0.66*u.hPa/u.degC,\n",
    "Alpha = 1.5,\n",
    "lambdaV = 2.454*u.MJ/u.kg,\n",
    "rhoDensityAir = 1.225*u.kg/u.m**3,\n",
    "specificHeatCapacityAir = 0.00101*(u.MJ/u.kg)/u.degC,\n",
    "conductance = 598.685*u.m/u.d\n"
   ]
  },
  {
   "cell_type": "code",
   "execution_count": 43,
   "metadata": {},
   "outputs": [],
   "source": [
    "Alpha = 1.5,\n",
    "lambdaV = 2.454*u.MJ/u.kg,\n",
    "evapoTranspirationPriestlyTaylor = 449.367*(u.g/u.m**2)/u.d,\n",
    "hslope = 0.584*u.hPa/u.degC,\n",
    "VPDair = 2.19*u.hPa"
   ]
  },
  {
   "cell_type": "code",
   "execution_count": 46,
   "metadata": {},
   "outputs": [
    {
     "ename": "TypeError",
     "evalue": "unsupported operand type(s) for /: 'tuple' and 'tuple'",
     "output_type": "error",
     "traceback": [
      "\u001b[1;31m---------------------------------------------------------------------------\u001b[0m",
      "\u001b[1;31mTypeError\u001b[0m                                 Traceback (most recent call last)",
      "\u001b[1;32m<ipython-input-46-b64123bf832c>\u001b[0m in \u001b[0;36m<module>\u001b[1;34m\u001b[0m\n\u001b[1;32m----> 1\u001b[1;33m \u001b[0mevapoTranspirationPriestlyTaylor\u001b[0m \u001b[1;33m/\u001b[0m \u001b[0mAlpha\u001b[0m\u001b[1;33m\u001b[0m\u001b[1;33m\u001b[0m\u001b[0m\n\u001b[0m",
      "\u001b[1;31mTypeError\u001b[0m: unsupported operand type(s) for /: 'tuple' and 'tuple'"
     ]
    }
   ],
   "source": [
    "evapoTranspirationPriestlyTaylor / Alpha"
   ]
  },
  {
   "cell_type": "code",
   "execution_count": null,
   "metadata": {},
   "outputs": [],
   "source": []
  }
 ],
 "metadata": {
  "kernelspec": {
   "display_name": "Python 3",
   "language": "python",
   "name": "python3"
  },
  "language_info": {
   "codemirror_mode": {
    "name": "ipython",
    "version": 3
   },
   "file_extension": ".py",
   "mimetype": "text/x-python",
   "name": "python",
   "nbconvert_exporter": "python",
   "pygments_lexer": "ipython3",
   "version": "3.7.7"
  }
 },
 "nbformat": 4,
 "nbformat_minor": 4
}
