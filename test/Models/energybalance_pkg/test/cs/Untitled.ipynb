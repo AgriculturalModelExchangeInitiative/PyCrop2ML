{
 "cells": [
  {
   "cell_type": "code",
   "execution_count": 5,
   "metadata": {},
   "outputs": [
    {
     "data": {
      "text/html": [
       "Installing package Microsoft.MLdone!"
      ]
     },
     "metadata": {},
     "output_type": "display_data"
    },
    {
     "ename": "Unhandled Exception",
     "evalue": "No design time or full build available",
     "output_type": "error",
     "traceback": [
      "Unhandled Exception",
      "No design time or full build available",
      "   at WorkspaceServer.Packaging.Package.CreateRoslynWorkspace()",
      "   at WorkspaceServer.Packaging.Package.ProcessFullBuildRequest(Budget budget)",
      "   at WorkspaceServer.Packaging.Package.<SetupWorkspaceCreationFromBuildChannel>b__54_0(Budget budget)",
      "   at WorkspaceServer.Packaging.PackageRestoreContext.CreatePackage(String name)",
      "   at WorkspaceServer.Packaging.PackageRestoreContext.AddPackage(String packageName, String packageVersion)",
      "   at WorkspaceServer.Kernel.CSharpKernelExtensions.<>c__DisplayClass2_1.<<UseNugetDirective>b__2>d.MoveNext()",
      "--- End of stack trace from previous location where exception was thrown ---",
      "   at Microsoft.DotNet.Interactive.Commands.KernelCommandBase.InvokeAsync(KernelInvocationContext context)",
      "   at Microsoft.DotNet.Interactive.KernelBase.HandleInternalAsync(IKernelCommand command, KernelInvocationContext context)",
      "   at Microsoft.DotNet.Interactive.KernelCommandPipeline.<BuildPipeline>b__6_0(IKernelCommand command, KernelInvocationContext context, KernelPipelineContinuation _)",
      "   at Microsoft.DotNet.Interactive.KernelBase.<AddSetKernelMiddleware>b__8_0(IKernelCommand command, KernelInvocationContext context, KernelPipelineContinuation next)",
      "   at Microsoft.DotNet.Interactive.KernelCommandPipeline.SendAsync(IKernelCommand command, KernelInvocationContext context)"
     ]
    }
   ],
   "source": [
    "#r \"nuget:Microsoft.ML\""
   ]
  },
  {
   "cell_type": "code",
   "execution_count": 3,
   "metadata": {},
   "outputs": [
    {
     "ename": "Unhandled Exception",
     "evalue": "(4,17): error CS0234: Le nom de type ou d'espace de noms 'ML' n'existe pas dans l'espace de noms 'Microsoft' (vous manque-t-il une référence d'assembly ?)\r\n(5,17): error CS0234: Le nom de type ou d'espace de noms 'ML' n'existe pas dans l'espace de noms 'Microsoft' (vous manque-t-il une référence d'assembly ?)",
     "output_type": "error",
     "traceback": [
      "(4,17): error CS0234: Le nom de type ou d'espace de noms 'ML' n'existe pas dans l'espace de noms 'Microsoft' (vous manque-t-il une référence d'assembly ?)\r\n(5,17): error CS0234: Le nom de type ou d'espace de noms 'ML' n'existe pas dans l'espace de noms 'Microsoft' (vous manque-t-il une référence d'assembly ?)"
     ]
    }
   ],
   "source": [
    "using System;\n",
    "using System.IO;\n",
    "using System.Linq;\n",
    "using Microsoft.ML;\n",
    "using Microsoft.ML.Data;\n",
    "using XPlot.Plotly;"
   ]
  },
  {
   "cell_type": "code",
   "execution_count": null,
   "metadata": {},
   "outputs": [],
   "source": []
  }
 ],
 "metadata": {
  "kernelspec": {
   "display_name": ".NET (C#)",
   "language": "C#",
   "name": ".net-csharp"
  },
  "language_info": {
   "file_extension": ".cs",
   "mimetype": "text/x-csharp",
   "name": "C#",
   "pygments_lexer": "csharp",
   "version": "8.0"
  }
 },
 "nbformat": 4,
 "nbformat_minor": 4
}
