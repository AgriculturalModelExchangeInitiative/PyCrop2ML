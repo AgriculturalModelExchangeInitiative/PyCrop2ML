{
 "cells": [
  {
   "cell_type": "markdown",
   "metadata": {},
   "source": [
    "# Automatic generation of Notebook using PyCropML\n",
    "    This notebook implements a crop model."
   ]
  },
  {
   "cell_type": "markdown",
   "metadata": {},
   "source": [
    "### Model Netradiationequivalentevaporation"
   ]
  },
  {
   "cell_type": "code",
   "execution_count": null,
   "metadata": {},
   "outputs": [],
   "source": [
    "model_netradiationequivalentevaporation <- function (lambdaV = 2.454,\n",
    "         netRadiation = 1.566){\n",
    "    #'- Name: NetRadiationEquivalentEvaporation -Version: 1.0, -Time step: 1\n",
    "    #'- Description:\n",
    "    #'            * Title: NetRadiationEquivalentEvaporation Model\n",
    "    #'            * Author: Pierre Martre\n",
    "    #'            * Reference: Modelling energy balance in the wheat crop model SiriusQuality2:\n",
    "    #'            Evapotranspiration and canopy and soil temperature calculations\n",
    "    #'            * Institution: INRA/LEPSE Montpellier\n",
    "    #'            * Abstract:  It is given by dividing net radiation by latent heat of vaporization of water \n",
    "    #'- inputs:\n",
    "    #'            * name: lambdaV\n",
    "    #'                          ** description : latent heat of vaporization of water\n",
    "    #'                          ** parametercategory : constant\n",
    "    #'                          ** datatype : DOUBLE\n",
    "    #'                          ** default : 2.454\n",
    "    #'                          ** min : 0\n",
    "    #'                          ** max : 10\n",
    "    #'                          ** unit : MJ kg-1\n",
    "    #'                          ** uri : http://www1.clermont.inra.fr/siriusquality/?page_id=547\n",
    "    #'                          ** inputtype : parameter\n",
    "    #'            * name: netRadiation\n",
    "    #'                          ** description : net radiation\n",
    "    #'                          ** variablecategory : state\n",
    "    #'                          ** datatype : DOUBLE\n",
    "    #'                          ** default : 1.566\n",
    "    #'                          ** min : 0\n",
    "    #'                          ** max : 5000\n",
    "    #'                          ** unit : MJ m-2 d-1\n",
    "    #'                          ** uri : http://www1.clermont.inra.fr/siriusquality/?page_id=547\n",
    "    #'                          ** inputtype : variable\n",
    "    #'- outputs:\n",
    "    #'            * name: netRadiationEquivalentEvaporation\n",
    "    #'                          ** variablecategory : auxiliary\n",
    "    #'                          ** description : net Radiation in Equivalent Evaporation \n",
    "    #'                          ** datatype : DOUBLE\n",
    "    #'                          ** min : 0\n",
    "    #'                          ** max : 5000\n",
    "    #'                          ** unit : g m-2 d-1\n",
    "    #'                          ** uri : http://www1.clermont.inra.fr/siriusquality/?page_id=547\n",
    "    netRadiationEquivalentEvaporation <- netRadiation / lambdaV * 1000.0\n",
    "    return (list('netRadiationEquivalentEvaporation' = netRadiationEquivalentEvaporation))\n",
    "}"
   ]
  },
  {
   "cell_type": "code",
   "execution_count": null,
   "metadata": {},
   "outputs": [],
   "source": [
    "library(assertthat)\n",
    "\n",
    "\n",
    "test_test1<-function(){\n",
    "    params= model_netradiationequivalentevaporation(\n",
    "        netRadiation = 1.566\n",
    "        )\n",
    "    netRadiationEquivalentEvaporation_estimated = params$netRadiationEquivalentEvaporation\n",
    "    netRadiationEquivalentEvaporation_computed = 638.142\n",
    "    assert_that(all.equal(netRadiationEquivalentEvaporation_estimated, netRadiationEquivalentEvaporation_computed, scale=1, tol=0.3)==TRUE)\n",
    "}\n",
    "test_test1()"
   ]
  }
 ],
 "metadata": {},
 "nbformat": 4,
 "nbformat_minor": 4
}
