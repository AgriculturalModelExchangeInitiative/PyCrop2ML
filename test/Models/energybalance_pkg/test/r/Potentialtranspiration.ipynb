{
 "cells": [
  {
   "cell_type": "markdown",
   "metadata": {},
   "source": [
    "# Automatic generation of Notebook using PyCropML\n",
    "    This notebook implements a crop model."
   ]
  },
  {
   "cell_type": "markdown",
   "metadata": {},
   "source": [
    "### Model Potentialtranspiration"
   ]
  },
  {
   "cell_type": "code",
   "execution_count": null,
   "metadata": {},
   "outputs": [],
   "source": [
    "model_potentialtranspiration <- function (evapoTranspiration = 830.958,\n",
    "         tau = 0.9983){\n",
    "    #'- Name: PotentialTranspiration -Version: 1.0, -Time step: 1\n",
    "    #'- Description:\n",
    "    #'            * Title: PotentialTranspiration Model\n",
    "    #'            * Author: Pierre Martre\n",
    "    #'            * Reference: Modelling energy balance in the wheat crop model SiriusQuality2:\n",
    "    #'            Evapotranspiration and canopy and soil temperature calculations\n",
    "    #'            * Institution: INRA/LEPSE Montpellier\n",
    "    #'            * Abstract: SiriusQuality2 uses availability of water from the soil reservoir as a method to restrict\n",
    "    #'                    transpiration as soil moisture is depleted \n",
    "    #'- inputs:\n",
    "    #'            * name: evapoTranspiration\n",
    "    #'                          ** description : evapoTranspiration\n",
    "    #'                          ** variablecategory : rate\n",
    "    #'                          ** datatype : DOUBLE\n",
    "    #'                          ** default : 830.958\n",
    "    #'                          ** min : 0\n",
    "    #'                          ** max : 10000\n",
    "    #'                          ** unit : mm\n",
    "    #'                          ** uri : http://www1.clermont.inra.fr/siriusquality/?page_id=547\n",
    "    #'                          ** inputtype : variable\n",
    "    #'            * name: tau\n",
    "    #'                          ** description : plant cover factor\n",
    "    #'                          ** parametercategory : species\n",
    "    #'                          ** datatype : DOUBLE\n",
    "    #'                          ** default : 0.9983\n",
    "    #'                          ** min : 0\n",
    "    #'                          ** max : 1\n",
    "    #'                          ** unit : \n",
    "    #'                          ** uri : http://www1.clermont.inra.fr/siriusquality/?page_id=547\n",
    "    #'                          ** inputtype : parameter\n",
    "    #'- outputs:\n",
    "    #'            * name: potentialTranspiration\n",
    "    #'                          ** description : potential Transpiration \n",
    "    #'                          ** variablecategory : rate\n",
    "    #'                          ** datatype : DOUBLE\n",
    "    #'                          ** min : 0\n",
    "    #'                          ** max : 10000\n",
    "    #'                          ** unit : g m-2 d-1\n",
    "    #'                          ** uri : http://www1.clermont.inra.fr/siriusquality/?page_id=547\n",
    "    potentialTranspiration <- evapoTranspiration * (1.0 - tau)\n",
    "    return (list('potentialTranspiration' = potentialTranspiration))\n",
    "}"
   ]
  },
  {
   "cell_type": "code",
   "execution_count": null,
   "metadata": {},
   "outputs": [],
   "source": [
    "library(assertthat)\n",
    "\n",
    "\n",
    "test_test1<-function(){\n",
    "    params= model_potentialtranspiration(\n",
    "        tau = 0.9983,\n",
    "        evapoTranspiration = 830.958\n",
    "        )\n",
    "    potentialTranspiration_estimated = params$potentialTranspiration\n",
    "    potentialTranspiration_computed = 1.413\n",
    "    assert_that(all.equal(potentialTranspiration_estimated, potentialTranspiration_computed, scale=1, tol=0.3)==TRUE)\n",
    "}\n",
    "test_test1()"
   ]
  }
 ],
 "metadata": {},
 "nbformat": 4,
 "nbformat_minor": 4
}
