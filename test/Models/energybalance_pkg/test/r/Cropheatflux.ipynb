{
 "cells": [
  {
   "cell_type": "markdown",
   "metadata": {},
   "source": [
    "# Automatic generation of Notebook using PyCropML\n",
    "    This notebook implements a crop model."
   ]
  },
  {
   "cell_type": "markdown",
   "metadata": {},
   "source": [
    "### Model Cropheatflux"
   ]
  },
  {
   "cell_type": "code",
   "execution_count": null,
   "metadata": {},
   "outputs": [],
   "source": [
    "model_cropheatflux <- function (netRadiationEquivalentEvaporation = 638.142,\n",
    "         soilHeatFlux = 188.817,\n",
    "         potentialTranspiration = 1.413){\n",
    "    #'- Name: CropHeatFlux -Version: 1.0, -Time step: 1\n",
    "    #'- Description:\n",
    "    #'            * Title: CropHeatFlux Model\n",
    "    #'            * Author: Pierre Martre\n",
    "    #'            * Reference: abModelling energy balance in the wheat crop model SiriusQuality2:\n",
    "    #'            Evapotranspiration and canopy and soil temperature calculations\n",
    "    #'            * Institution: INRA/LEPSE Montpellier\n",
    "    #'            * Abstract: It is calculated from net Radiation, soil heat flux and potential transpiration \n",
    "    #'- inputs:\n",
    "    #'            * name: netRadiationEquivalentEvaporation\n",
    "    #'                          ** variablecategory : auxiliary\n",
    "    #'                          ** description : net Radiation Equivalent Evaporation\n",
    "    #'                          ** datatype : DOUBLE\n",
    "    #'                          ** default : 638.142\n",
    "    #'                          ** min : 0\n",
    "    #'                          ** max : 10000\n",
    "    #'                          ** unit : g m-2 d-1\n",
    "    #'                          ** uri : http://www1.clermont.inra.fr/siriusquality/?page_id=547\n",
    "    #'                          ** inputtype : variable\n",
    "    #'            * name: soilHeatFlux\n",
    "    #'                          ** description : soil Heat Flux\n",
    "    #'                          ** variablecategory : rate\n",
    "    #'                          ** datatype : DOUBLE\n",
    "    #'                          ** default : 188.817\n",
    "    #'                          ** min : 0\n",
    "    #'                          ** max : 1000\n",
    "    #'                          ** unit : g m-2 d-1\n",
    "    #'                          ** uri : http://www1.clermont.inra.fr/siriusquality/?page_id=547\n",
    "    #'                          ** inputtype : variable\n",
    "    #'            * name: potentialTranspiration\n",
    "    #'                          ** description : potential Transpiration\n",
    "    #'                          ** variablecategory : rate\n",
    "    #'                          ** datatype : DOUBLE\n",
    "    #'                          ** default :  1.413\n",
    "    #'                          ** min : 0\n",
    "    #'                          ** max : 1000\n",
    "    #'                          ** unit : g m-2 d-1\n",
    "    #'                          ** uri : http://www1.clermont.inra.fr/siriusquality/?page_id=547\n",
    "    #'                          ** inputtype : variable\n",
    "    #'- outputs:\n",
    "    #'            * name: cropHeatFlux\n",
    "    #'                          ** description :  crop Heat Flux\n",
    "    #'                          ** variablecategory : rate\n",
    "    #'                          ** datatype : DOUBLE\n",
    "    #'                          ** min : 0\n",
    "    #'                          ** max : 10000\n",
    "    #'                          ** unit : g m-2 d-1\n",
    "    #'                          ** uri : http://www1.clermont.inra.fr/siriusquality/?page_id=547\n",
    "    cropHeatFlux <- netRadiationEquivalentEvaporation - soilHeatFlux - potentialTranspiration\n",
    "    return (list('cropHeatFlux' = cropHeatFlux))\n",
    "}"
   ]
  },
  {
   "cell_type": "code",
   "execution_count": null,
   "metadata": {},
   "outputs": [],
   "source": [
    "library(assertthat)\n",
    "\n",
    "\n",
    "test_test1<-function(){\n",
    "    params= model_cropheatflux(\n",
    "        netRadiationEquivalentEvaporation = 638.142,\n",
    "        soilHeatFlux = 188.817,\n",
    "        potentialTranspiration =  1.413\n",
    "        )\n",
    "    cropHeatFlux_estimated = params$cropHeatFlux\n",
    "    cropHeatFlux_computed =  447.912\n",
    "    assert_that(all.equal(cropHeatFlux_estimated, cropHeatFlux_computed, scale=1, tol=0.3)==TRUE)\n",
    "}\n",
    "test_test1()"
   ]
  }
 ],
 "metadata": {},
 "nbformat": 4,
 "nbformat_minor": 4
}
