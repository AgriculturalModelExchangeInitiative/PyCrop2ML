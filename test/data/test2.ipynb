{
 "cells": [
  {
   "cell_type": "markdown",
   "metadata": {},
   "source": [
    "# Automatic generation of Notebook using PyCropML\n",
    "This notebook implements a crop model."
   ]
  },
  {
   "cell_type": "code",
   "execution_count": null,
   "metadata": {},
   "outputs": [],
   "source": [
    "import numpy as np \n",
    "from copy import copy\n",
    "from math import *\n",
    "\n",
    "def daylength(pDaylength=0,\n",
    "              cLatitude=60.0,\n",
    "              iDayOfYear=100.0):\n",
    "\n",
    "    \"\"\" STMPsimCalculator\n",
    "\n",
    "    Author: \n",
    "    Reference: \n",
    "    Instituton: Crop Science Group Bonn\n",
    "    Abstract: Calculates the DayLength.\n",
    "    \"\"\"\n",
    "    dayLengthArray = np.arange(370)\n",
    "    for i in range(0,370):\n",
    "        \n",
    "        TIME = i\n",
    "        SINLAT = float(np.sin(np.pi * cLatitude/ 180))\n",
    "        COSLAT = float(np.cos(np.pi * cLatitude / 180))\n",
    "        SINDCM = float(np.sin(np.pi * 23.45 / 180))\n",
    "        SINDEC = (-SINDCM * np.cos(2 * np.pi * (TIME + 10) / 365))\n",
    "        COSDEC = float( np.sqrt(1 - SINDEC * SINDEC))\n",
    "        A = float(SINLAT * SINDEC)\n",
    "        B = float(COSLAT * COSDEC)\n",
    "        arg = float(A / B)\n",
    "        if (arg > 1): arg = 1\n",
    "        if (arg < -1): arg = -1\n",
    "        tDayLength = float(12 * (1 + (2 / np.pi) * np.arcsin(arg)))\n",
    "        dayLengthArray[i] = int(round(tDayLength * 60))\n",
    "    \n",
    "    pDaylength=dayLengthArray\n",
    "    DayLength = pDaylength[iDayOfYear]\n",
    "    return  DayLength\n"
   ]
  },
  {
   "cell_type": "markdown",
   "metadata": {},
   "source": [
    "## Run the model with a set of parameters.\n",
    "Each run will be defined in its own cell."
   ]
  },
  {
   "cell_type": "code",
   "execution_count": null,
   "metadata": {},
   "outputs": [],
   "source": [
    "params= daylength(\n",
    "    cLatitude = 20,\n",
    "    iDayOfYear = 15,\n",
    "     )\n",
    "print np.around(params, 2)\n",
    "\n",
    "\n",
    "# output = 655"
   ]
  }
 ],
 "metadata": {},
 "nbformat": 4,
 "nbformat_minor": 2
}
