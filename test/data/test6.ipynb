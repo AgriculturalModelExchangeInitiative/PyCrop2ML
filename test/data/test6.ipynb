{
 "cells": [
  {
   "cell_type": "markdown",
   "metadata": {},
   "source": [
    "# Automatic generation of Notebook using PyCropML\n",
    "This notebook implements a crop model."
   ]
  },
  {
   "cell_type": "code",
   "execution_count": null,
   "metadata": {},
   "outputs": [],
   "source": [
    "import numpy as np \n",
    "from copy import copy\n",
    "from math import *\n",
    "\n",
    "def photoperiod(iDayLength=0,\n",
    "                iPhotoInsensitivity=6.0,\n",
    "                iPhotoInhibition=14.0):\n",
    "\n",
    "    \"\"\" Photoperiod\n",
    "\n",
    "    Author: \n",
    "    Reference: as given in the documentation\n",
    "    Instituton: INRES Pflanzenbau, Uni Bonn\n",
    "    Abstract: see documentation at http://www.simplace.net/doc/simplace_modules/class_net.simplace.sim.components.experimental.amei.Photoperiod.html\n",
    "    \"\"\"\n",
    "    PhotoPeriodFactor = ((iPhotoInhibition - iDayLength) /60)/ (iPhotoInhibition - iPhotoInsensitivity)\n",
    "    if (iPhotoInsensitivity > iPhotoInhibition):\n",
    "        \n",
    "        PhotoPeriodFactor = (iDayLength - iPhotoInhibition) / (iPhotoInsensitivity - iPhotoInhibition)\n",
    "    \n",
    "    if (PhotoPeriodFactor < 0):\n",
    "        \n",
    "        PhotoPeriodFactor = 0\n",
    "    \n",
    "    if (PhotoPeriodFactor > 1):\n",
    "        \n",
    "        PhotoPeriodFactor = 1\n",
    "    \n",
    "    return  PhotoPeriodFactor\n"
   ]
  },
  {
   "cell_type": "markdown",
   "metadata": {},
   "source": [
    "## Run the model with a set of parameters.\n",
    "Each run will be defined in its own cell."
   ]
  }
 ],
 "metadata": {},
 "nbformat": 4,
 "nbformat_minor": 2
}
