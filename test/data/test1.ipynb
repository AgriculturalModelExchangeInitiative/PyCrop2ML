{
 "cells": [
  {
   "cell_type": "markdown",
   "metadata": {},
   "source": [
    "# Automatic generation of Notebook using PyCropML\n",
    "This notebook implements a crop model."
   ]
  },
  {
   "cell_type": "code",
   "execution_count": null,
   "metadata": {},
   "outputs": [],
   "source": [
    "import numpy as np \n",
    "from copy import copy\n",
    "from math import *\n",
    "\n",
    "def temperaturesum(DailyIncreaseTempSumFunctionOfAverageT_DTSMTB_X1=4,\n",
    "                   DailyIncreaseTempSumFunctionOfAverageT_DTSMTB_X2=35,\n",
    "                   DailyIncreaseTempSumFunctionOfAverageT_DTSMTB_Y1=0,\n",
    "                   DailyIncreaseTempSumFunctionOfAverageT_DTSMTB_Y2=31,\n",
    "                   AirTemperatureAverage=10,\n",
    "                   GrowingDegreeDaysTemperature=100):\n",
    "\n",
    "    \"\"\" TemperatureSum\n",
    "\n",
    "    Author: \n",
    "    Reference: \n",
    "    Instituton: JRC - CREA\n",
    "    Abstract: \n",
    "\t\t\tTemperature sum based on the calculation of development rate - Van Keulen, H., Wolf, J., 1986. \n",
    "\t\t\tModelling of agricultural production: weather soils and crops. Simulation Monographs.\n",
    "\t\t\tPudoc, Wageningen, The Netherlands, pp. 479\n",
    "\t\t\n",
    "\t\t\n",
    "    \"\"\"\n",
    "    Tavg = AirTemperatureAverage\n",
    "    if(Tavg<=DailyIncreaseTempSumFunctionOfAverageT_DTSMTB_X1):\n",
    "        \n",
    "        GrowingDegreeDaysTemperatureRate=DailyIncreaseTempSumFunctionOfAverageT_DTSMTB_Y1\n",
    "    \n",
    "    if(Tavg>DailyIncreaseTempSumFunctionOfAverageT_DTSMTB_X1 and Tavg<DailyIncreaseTempSumFunctionOfAverageT_DTSMTB_X2):\n",
    "        \n",
    "        b = (DailyIncreaseTempSumFunctionOfAverageT_DTSMTB_Y2 - DailyIncreaseTempSumFunctionOfAverageT_DTSMTB_Y1) / (DailyIncreaseTempSumFunctionOfAverageT_DTSMTB_X2 - DailyIncreaseTempSumFunctionOfAverageT_DTSMTB_X1)\n",
    "        GrowingDegreeDaysTemperatureRate=Tavg * b + DailyIncreaseTempSumFunctionOfAverageT_DTSMTB_Y1\n",
    "    \n",
    "    if(Tavg>=DailyIncreaseTempSumFunctionOfAverageT_DTSMTB_X2):\n",
    "        \n",
    "        GrowingDegreeDaysTemperatureRate=DailyIncreaseTempSumFunctionOfAverageT_DTSMTB_Y2\n",
    "    \n",
    "    GrowingDegreeDaysTemperature = GrowingDegreeDaysTemperature + GrowingDegreeDaysTemperatureRate\n",
    "    return  GrowingDegreeDaysTemperature, GrowingDegreeDaysTemperatureRate\n"
   ]
  },
  {
   "cell_type": "markdown",
   "metadata": {},
   "source": [
    "## Run the model with a set of parameters.\n",
    "Each run will be defined in its own cell."
   ]
  },
  {
   "cell_type": "code",
   "execution_count": null,
   "metadata": {},
   "outputs": [],
   "source": [
    "params= temperaturesum(\n",
    "    GrowingDegreeDaysTemperature = 1,\n",
    "    AirTemperatureAverage = 16,\n",
    "    DailyIncreaseTempSumFunctionOfAverageT_DTSMTB_X2 = 35,\n",
    "    DailyIncreaseTempSumFunctionOfAverageT_DTSMTB_X1 = 4,\n",
    "    DailyIncreaseTempSumFunctionOfAverageT_DTSMTB_Y1 = 0,\n",
    "    DailyIncreaseTempSumFunctionOfAverageT_DTSMTB_Y2 = 31,\n",
    "     )\n",
    "print([np.around(p, 3) for p in params])\n",
    "\n",
    "# outputs = [17.0, 16.0]"
   ]
  },
  {
   "cell_type": "code",
   "execution_count": null,
   "metadata": {},
   "outputs": [],
   "source": [
    "params= temperaturesum(\n",
    "    GrowingDegreeDaysTemperature = 1,\n",
    "    AirTemperatureAverage = 3,\n",
    "    DailyIncreaseTempSumFunctionOfAverageT_DTSMTB_X2 = 35,\n",
    "    DailyIncreaseTempSumFunctionOfAverageT_DTSMTB_X1 = 4,\n",
    "    DailyIncreaseTempSumFunctionOfAverageT_DTSMTB_Y1 = 0,\n",
    "    DailyIncreaseTempSumFunctionOfAverageT_DTSMTB_Y2 = 31,\n",
    "     )\n",
    "print([np.around(p, 3) for p in params])\n",
    "\n",
    "# outputs = [1.0, 0.0]"
   ]
  },
  {
   "cell_type": "code",
   "execution_count": null,
   "metadata": {},
   "outputs": [],
   "source": [
    "params= temperaturesum(\n",
    "    GrowingDegreeDaysTemperature = 1,\n",
    "    AirTemperatureAverage = 50,\n",
    "    DailyIncreaseTempSumFunctionOfAverageT_DTSMTB_X2 = 35,\n",
    "    DailyIncreaseTempSumFunctionOfAverageT_DTSMTB_X1 = 4,\n",
    "    DailyIncreaseTempSumFunctionOfAverageT_DTSMTB_Y1 = 0,\n",
    "    DailyIncreaseTempSumFunctionOfAverageT_DTSMTB_Y2 = 31,\n",
    "     )\n",
    "print([np.around(p, 3) for p in params])\n",
    "\n",
    "# outputs = [32.0, 31.0]"
   ]
  }
 ],
 "metadata": {
  "kernelspec": {
   "display_name": "Python 2",
   "language": "python",
   "name": "python2"
  },
  "language_info": {
   "codemirror_mode": {
    "name": "ipython",
    "version": 2
   },
   "file_extension": ".py",
   "mimetype": "text/x-python",
   "name": "python",
   "nbconvert_exporter": "python",
   "pygments_lexer": "ipython2",
   "version": "2.7.15"
  }
 },
 "nbformat": 4,
 "nbformat_minor": 2
}
