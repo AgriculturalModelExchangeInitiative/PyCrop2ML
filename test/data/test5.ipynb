{
 "cells": [
  {
   "cell_type": "markdown",
   "metadata": {},
   "source": [
    "# Automatic generation of Notebook using PyCropML\n",
    "This notebook implements a crop model."
   ]
  },
  {
   "cell_type": "code",
   "execution_count": null,
   "metadata": {},
   "outputs": [],
   "source": [
    "import numpy as np \n",
    "from copy import copy\n",
    "from math import *\n",
    "\n",
    "def partitioning(cPartitionNStressReduction=1.0,\n",
    "                 cLeavesPartitioningTableDVS=([0.1,0.2,0.4]),\n",
    "                 iTRANRF=1.0,\n",
    "                 cStemsPartitioningTableFraction=([0.1,0.2,0.4]),\n",
    "                 cLeavesPartitioningTableFraction=([0.1,0.2,0.4]),\n",
    "                 cFSOTB=([0.1,0.2,0.4]),\n",
    "                 cStemsPartitioningTableDVS=([0.1,0.2,0.4]),\n",
    "                 cFRTTB=([0.1,0.2,0.4]),\n",
    "                 cFSTTB=([0.1,0.2,0.4]),\n",
    "                 cStorageOrgansPartitioningTableDVS=([0.1,0.2,0.4]),\n",
    "                 iNitrogenNutritionIndex=1.0,\n",
    "                 cRootsPartitioningTableDVS=([0.1,0.2,0.4]),\n",
    "                 nameoSow=True,\n",
    "                 cFLVTB=([0.1,0.2,0.4]),\n",
    "                 cRootsPartitioningTableFraction=([0.1,0.2,0.4]),\n",
    "                 idevStage=0.0,\n",
    "                 cStorageOrgansPartitioningTableFraction=([0.1,0.2,0.4])):\n",
    "\n",
    "    \"\"\" Partitioning\n",
    "\n",
    "    Author: \n",
    "    Reference: as given in the documentation\n",
    "    Instituton: INRES Pflanzenbau, Uni Bonn\n",
    "    Abstract: see documentation at http://www.simplace.net/doc/simplace_modules/class_net.simplace.sim.components.experimental.amei.Partitioning.html\n",
    "    \"\"\"\n",
    "    FractionStems=0\n",
    "    FractionStorageOrgans=0\n",
    "    FractionLeaves=0\n",
    "    FractionRoot=0\n",
    "    \"\"\"\n",
    "    double FRTWET = FSTFunctions.AFGEN(cRootsPartitioningTableDVS, cRootsPartitioningTableFraction, DevStage.getValue());\n",
    "    if (TRANRF.getValue() &lt; NitrogenNutritionIndex.getValue()) {\n",
    "    double FRTMOD = max(1.0, 1.0 / (TRANRF.getValue() + 0.5));\n",
    "    FractionRoot.setValue(FRTWET * FRTMOD, this);\n",
    "    double FSHMOD = (1.0 - FractionRoot.getValue()) / (1.0 - FractionRoot.getValue() / FRTMOD);\n",
    "    FractionLeaves.setValue(FSTFunctions.AFGEN(cLeavesPartitioningTableDVS, cLeavesPartitioningTableFraction, DevStage.getValue()) * FSHMOD, this);\n",
    "    FractionStems.setValue(FSTFunctions.AFGEN(cStemsPartitioningTableDVS, cStemsPartitioningTableFraction, DevStage.getValue()) * FSHMOD, this);\n",
    "    FractionStorageOrgans.setValue(FSTFunctions.AFGEN(cStorageOrgansPartitioningTableDVS, cStorageOrgansPartitioningTableFraction, DevStage.getValue()) * FSHMOD, this);\n",
    "    } else {\n",
    "    double FLVMOD = exp(-PartitionNStressReduction.getValue() * (1 - NitrogenNutritionIndex.getValue()));\n",
    "    FractionRoot.setValue(FRTWET, this);\n",
    "    double FLVT = FSTFunctions.AFGEN(cLeavesPartitioningTableDVS, cLeavesPartitioningTableFraction, DevStage.getValue());\n",
    "    FractionLeaves.setValue(FLVT * FLVMOD, this);\n",
    "    FractionStems.setValue(FSTFunctions.AFGEN(cStemsPartitioningTableDVS, cStemsPartitioningTableFraction, DevStage.getValue()) + FLVT - FractionLeaves.getValue(), this);\n",
    "    FractionStorageOrgans.setValue(FSTFunctions.AFGEN(cStorageOrgansPartitioningTableDVS, cStorageOrgansPartitioningTableFraction, DevStage.getValue()), this);\n",
    "\n",
    "\"\"\"\n",
    "    return  FractionStems, FractionStorageOrgans, FractionLeaves, FractionRoot\n"
   ]
  },
  {
   "cell_type": "markdown",
   "metadata": {},
   "source": [
    "## Run the model with a set of parameters.\n",
    "Each run will be defined in its own cell."
   ]
  }
 ],
 "metadata": {},
 "nbformat": 4,
 "nbformat_minor": 2
}
