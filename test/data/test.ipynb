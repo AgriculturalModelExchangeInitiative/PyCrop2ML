{
 "cells": [
  {
   "cell_type": "markdown",
   "metadata": {},
   "source": [
    "# Automatic generation of Notebook using PyCropML\n",
    "This notebook implements a crop model."
   ]
  },
  {
   "cell_type": "code",
   "execution_count": null,
   "metadata": {},
   "outputs": [],
   "source": [
    "import numpy as np \n",
    "from copy import copy\n",
    "from math import *\n",
    "\n",
    "def bioma_growingdegreedaystemperature(BaseTemperatureDevelopment=10,\n",
    "                                       CutoffTemperatureDevelopment=40,\n",
    "                                       AirTemperatureAverage=25,\n",
    "                                       GrowingDegreeDaysTemperature=100):\n",
    "\n",
    "    \"\"\" GrowingDegreeDaysTemperature\n",
    "\n",
    "    Author: \n",
    "    Reference: \n",
    "    Instituton: JRC-CREA\n",
    "    Abstract: \n",
    "\t\t\tGrowing degree days based on temperature -Confalonieri, R., Gusberti, D., Acutis, M., 2006.\n",
    "\t\t  \tComparison of WOFOST, CropSyst and WARM for simulating rice growth\n",
    "\t\t  \tJaponica type short cycle varieties. Italian Journal of Agrometeorology, 3, 7-16\n",
    "\t\t\n",
    "    \"\"\"\n",
    "    Tavg = float(AirTemperatureAverage)\n",
    "    if (Tavg <= BaseTemperatureDevelopment):\n",
    "        \n",
    "        GrowingDegreeDaysTemperatureRate = 0\n",
    "    \n",
    "    elif (Tavg >= CutoffTemperatureDevelopment):\n",
    "        \n",
    "        GrowingDegreeDaysTemperatureRate = CutoffTemperatureDevelopment - BaseTemperatureDevelopment\n",
    "    \n",
    "    else:\n",
    "        \n",
    "        GrowingDegreeDaysTemperatureRate = Tavg - BaseTemperatureDevelopment\n",
    "    \n",
    "    GrowingDegreeDaysTemperature = GrowingDegreeDaysTemperature + GrowingDegreeDaysTemperatureRate\n",
    "    return  GrowingDegreeDaysTemperature, GrowingDegreeDaysTemperatureRate\n"
   ]
  },
  {
   "cell_type": "markdown",
   "metadata": {},
   "source": [
    "## Run the model with a set of parameters.\n",
    "Each run will be defined in its own cell."
   ]
  },
  {
   "cell_type": "code",
   "execution_count": null,
   "metadata": {},
   "outputs": [],
   "source": [
    "params= bioma_growingdegreedaystemperature(\n",
    "    GrowingDegreeDaysTemperature = 5,\n",
    "    CutoffTemperatureDevelopment = 40,\n",
    "    BaseTemperatureDevelopment = 10,\n",
    "    AirTemperatureAverage = 16,\n",
    "     )\n",
    "print([np.around(p, 2) for p in params])\n",
    "\n",
    "# outputs = [11, 6]"
   ]
  },
  {
   "cell_type": "code",
   "execution_count": null,
   "metadata": {},
   "outputs": [],
   "source": [
    "params= bioma_growingdegreedaystemperature(\n",
    "    GrowingDegreeDaysTemperature = 5,\n",
    "    CutoffTemperatureDevelopment = 40,\n",
    "    BaseTemperatureDevelopment = 10,\n",
    "    AirTemperatureAverage = 46,\n",
    "     )\n",
    "print([np.around(p, 2) for p in params])\n",
    "\n",
    "# outputs = [35, 30]"
   ]
  },
  {
   "cell_type": "code",
   "execution_count": null,
   "metadata": {},
   "outputs": [],
   "source": [
    "params= bioma_growingdegreedaystemperature(\n",
    "    GrowingDegreeDaysTemperature = 5,\n",
    "    CutoffTemperatureDevelopment = 40,\n",
    "    BaseTemperatureDevelopment = 10,\n",
    "    AirTemperatureAverage = -1,\n",
    "     )\n",
    "print([np.around(p, 2) for p in params])\n",
    "\n",
    "# outputs = [5, 0]"
   ]
  }
 ],
 "metadata": {
  "kernelspec": {
   "display_name": "Python 2",
   "language": "python",
   "name": "python2"
  },
  "language_info": {
   "codemirror_mode": {
    "name": "ipython",
    "version": 2
   },
   "file_extension": ".py",
   "mimetype": "text/x-python",
   "name": "python",
   "nbconvert_exporter": "python",
   "pygments_lexer": "ipython2",
   "version": "2.7.15"
  }
 },
 "nbformat": 4,
 "nbformat_minor": 2
}
