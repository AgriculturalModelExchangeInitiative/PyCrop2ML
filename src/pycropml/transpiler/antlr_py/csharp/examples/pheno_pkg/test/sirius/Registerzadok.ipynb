{
 "cells": [
  {
   "cell_type": "markdown",
   "id": "suffering-football",
   "metadata": {},
   "source": [
    "# Automatic generation of Notebook using PyCropML\n",
    "    This notebook implements a crop model."
   ]
  },
  {
   "cell_type": "markdown",
   "id": "spread-flashing",
   "metadata": {},
   "source": [
    "### Model RegisterZadok"
   ]
  }
 ],
 "metadata": {},
 "nbformat": 4,
 "nbformat_minor": 5
}
