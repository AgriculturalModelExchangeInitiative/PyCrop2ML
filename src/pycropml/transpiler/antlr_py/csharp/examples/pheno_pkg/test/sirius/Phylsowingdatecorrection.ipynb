{
 "cells": [
  {
   "cell_type": "markdown",
   "id": "coordinated-lover",
   "metadata": {},
   "source": [
    "# Automatic generation of Notebook using PyCropML\n",
    "    This notebook implements a crop model."
   ]
  },
  {
   "cell_type": "markdown",
   "id": "international-canon",
   "metadata": {},
   "source": [
    "### Model PhylSowingDateCorrection"
   ]
  }
 ],
 "metadata": {},
 "nbformat": 4,
 "nbformat_minor": 5
}
