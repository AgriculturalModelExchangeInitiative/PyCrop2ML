{
 "cells": [
  {
   "cell_type": "markdown",
   "id": "tough-christianity",
   "metadata": {},
   "source": [
    "# Automatic generation of Notebook using PyCropML\n",
    "    This notebook implements a crop model."
   ]
  },
  {
   "cell_type": "markdown",
   "id": "another-buddy",
   "metadata": {},
   "source": [
    "### Model PTQ"
   ]
  }
 ],
 "metadata": {},
 "nbformat": 4,
 "nbformat_minor": 5
}
