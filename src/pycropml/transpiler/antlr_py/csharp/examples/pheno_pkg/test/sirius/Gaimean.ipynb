{
 "cells": [
  {
   "cell_type": "markdown",
   "id": "norman-resident",
   "metadata": {},
   "source": [
    "# Automatic generation of Notebook using PyCropML\n",
    "    This notebook implements a crop model."
   ]
  },
  {
   "cell_type": "markdown",
   "id": "psychological-germany",
   "metadata": {},
   "source": [
    "### Model GAImean"
   ]
  }
 ],
 "metadata": {},
 "nbformat": 4,
 "nbformat_minor": 5
}
