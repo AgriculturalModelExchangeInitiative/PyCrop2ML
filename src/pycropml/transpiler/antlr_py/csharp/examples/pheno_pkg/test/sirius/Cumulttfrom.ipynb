{
 "cells": [
  {
   "cell_type": "markdown",
   "id": "saving-header",
   "metadata": {},
   "source": [
    "# Automatic generation of Notebook using PyCropML\n",
    "    This notebook implements a crop model."
   ]
  },
  {
   "cell_type": "markdown",
   "id": "laden-fitting",
   "metadata": {},
   "source": [
    "### Model CumulTTFrom"
   ]
  }
 ],
 "metadata": {},
 "nbformat": 4,
 "nbformat_minor": 5
}
