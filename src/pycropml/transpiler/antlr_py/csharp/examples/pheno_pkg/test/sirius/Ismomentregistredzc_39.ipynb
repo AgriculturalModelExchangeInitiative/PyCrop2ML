{
 "cells": [
  {
   "cell_type": "markdown",
   "id": "humanitarian-ecuador",
   "metadata": {},
   "source": [
    "# Automatic generation of Notebook using PyCropML\n",
    "    This notebook implements a crop model."
   ]
  },
  {
   "cell_type": "markdown",
   "id": "quarterly-begin",
   "metadata": {},
   "source": [
    "### Model IsMomentRegistredZC_39"
   ]
  }
 ],
 "metadata": {},
 "nbformat": 4,
 "nbformat_minor": 5
}
