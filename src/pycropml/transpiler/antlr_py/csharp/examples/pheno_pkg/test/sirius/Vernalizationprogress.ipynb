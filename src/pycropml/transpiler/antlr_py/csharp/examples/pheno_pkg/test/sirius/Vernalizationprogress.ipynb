{
 "cells": [
  {
   "cell_type": "markdown",
   "id": "separate-fraction",
   "metadata": {},
   "source": [
    "# Automatic generation of Notebook using PyCropML\n",
    "    This notebook implements a crop model."
   ]
  },
  {
   "cell_type": "markdown",
   "id": "animated-definition",
   "metadata": {},
   "source": [
    "### Model VernalizationProgress"
   ]
  }
 ],
 "metadata": {},
 "nbformat": 4,
 "nbformat_minor": 5
}
