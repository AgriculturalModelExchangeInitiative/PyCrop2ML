{
 "cells": [
  {
   "cell_type": "markdown",
   "id": "patent-nation",
   "metadata": {},
   "source": [
    "# Automatic generation of Notebook using PyCropML\n",
    "    This notebook implements a crop model."
   ]
  },
  {
   "cell_type": "markdown",
   "id": "corporate-daisy",
   "metadata": {},
   "source": [
    "### Model UpdatePhase"
   ]
  }
 ],
 "metadata": {},
 "nbformat": 4,
 "nbformat_minor": 5
}
