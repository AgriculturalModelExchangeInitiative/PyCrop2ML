{
 "cells": [
  {
   "cell_type": "code",
   "execution_count": 1,
   "id": "motivated-filter",
   "metadata": {},
   "outputs": [],
   "source": [
    "public class Test\n",
    "{\n",
    "    public static int testfib(int a)\n",
    "    {\n",
    "        List<Integer>h = new ArrayList <>(Arrays.asList(15));\n",
    "        int j;\n",
    "        for (j=10 ; j!=6 ; j+= - 2)\n",
    "        {\n",
    "            a = j;\n",
    "        }\n",
    "        return a;\n",
    "    }\n",
    "}"
   ]
  },
  {
   "cell_type": "code",
   "execution_count": 2,
   "id": "entire-gibraltar",
   "metadata": {},
   "outputs": [
    {
     "data": {
      "text/plain": [
       "8"
      ]
     },
     "execution_count": 2,
     "metadata": {},
     "output_type": "execute_result"
    }
   ],
   "source": [
    "Test.testfib(10)"
   ]
  },
  {
   "cell_type": "code",
   "execution_count": null,
   "id": "severe-captain",
   "metadata": {},
   "outputs": [],
   "source": []
  }
 ],
 "metadata": {
  "kernelspec": {
   "display_name": "Java",
   "language": "java",
   "name": "java"
  },
  "language_info": {
   "codemirror_mode": "java",
   "file_extension": ".jshell",
   "mimetype": "text/x-java-source",
   "name": "Java",
   "pygments_lexer": "java",
   "version": "14.0.2+12-46"
  }
 },
 "nbformat": 4,
 "nbformat_minor": 5
}
