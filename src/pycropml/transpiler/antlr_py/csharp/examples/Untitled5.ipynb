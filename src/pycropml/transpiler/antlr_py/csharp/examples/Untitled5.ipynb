{
 "cells": [
  {
   "cell_type": "code",
   "execution_count": null,
   "id": "russian-wallpaper",
   "metadata": {},
   "outputs": [],
   "source": [
    "program tt\n",
    "    print *, testfib(10)\n",
    "    contains\n",
    "    FUNCTION testfib(a) RESULT(b)\n",
    "        IMPLICIT NONE\n",
    "        INTEGER, INTENT(IN) :: a\n",
    "        INTEGER:: b\n",
    "        INTEGER, ALLOCATABLE , DIMENSION(:):: h\n",
    "        INTEGER:: j\n",
    "        h = (/15/)\n",
    "        DO j = 10 , 5, -1\n",
    "            b = j\n",
    "            print *, b\n",
    "        END DO\n",
    "    END FUNCTION testfib\n",
    "end program"
   ]
  },
  {
   "cell_type": "code",
   "execution_count": null,
   "id": "decreased-wallpaper",
   "metadata": {},
   "outputs": [],
   "source": []
  }
 ],
 "metadata": {
  "kernelspec": {
   "display_name": "Fortran",
   "language": "Fortran",
   "name": "fortran_spec"
  },
  "language_info": {
   "file_extension": "f90",
   "mimetype": "text/plain",
   "name": "fortran"
  }
 },
 "nbformat": 4,
 "nbformat_minor": 5
}
