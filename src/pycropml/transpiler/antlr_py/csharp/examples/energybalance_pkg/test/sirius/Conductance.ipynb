{
 "cells": [
  {
   "cell_type": "markdown",
   "id": "dried-hierarchy",
   "metadata": {},
   "source": [
    "# Automatic generation of Notebook using PyCropML\n",
    "    This notebook implements a crop model."
   ]
  },
  {
   "cell_type": "markdown",
   "id": "supposed-asbestos",
   "metadata": {},
   "source": [
    "### Model Conductance"
   ]
  }
 ],
 "metadata": {},
 "nbformat": 4,
 "nbformat_minor": 5
}
