{
 "cells": [
  {
   "cell_type": "markdown",
   "id": "historical-disorder",
   "metadata": {},
   "source": [
    "# Automatic generation of Notebook using PyCropML\n",
    "    This notebook implements a crop model."
   ]
  },
  {
   "cell_type": "markdown",
   "id": "affecting-textbook",
   "metadata": {},
   "source": [
    "### Model Diffusionlimitedevaporation"
   ]
  }
 ],
 "metadata": {},
 "nbformat": 4,
 "nbformat_minor": 5
}
