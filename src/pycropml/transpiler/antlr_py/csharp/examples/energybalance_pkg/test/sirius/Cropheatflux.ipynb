{
 "cells": [
  {
   "cell_type": "markdown",
   "id": "suspended-thanksgiving",
   "metadata": {},
   "source": [
    "# Automatic generation of Notebook using PyCropML\n",
    "    This notebook implements a crop model."
   ]
  },
  {
   "cell_type": "markdown",
   "id": "smoking-peripheral",
   "metadata": {},
   "source": [
    "### Model Cropheatflux"
   ]
  }
 ],
 "metadata": {},
 "nbformat": 4,
 "nbformat_minor": 5
}
