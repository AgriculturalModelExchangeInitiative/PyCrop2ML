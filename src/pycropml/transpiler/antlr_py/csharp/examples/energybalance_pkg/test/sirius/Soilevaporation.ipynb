{
 "cells": [
  {
   "cell_type": "markdown",
   "id": "waiting-limitation",
   "metadata": {},
   "source": [
    "# Automatic generation of Notebook using PyCropML\n",
    "    This notebook implements a crop model."
   ]
  },
  {
   "cell_type": "markdown",
   "id": "assured-zealand",
   "metadata": {},
   "source": [
    "### Model Soilevaporation"
   ]
  }
 ],
 "metadata": {},
 "nbformat": 4,
 "nbformat_minor": 5
}
