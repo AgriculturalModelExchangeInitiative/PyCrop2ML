{
 "cells": [
  {
   "cell_type": "code",
   "execution_count": 5,
   "id": "differential-handle",
   "metadata": {},
   "outputs": [],
   "source": [
    "\n",
    "    class Program\n",
    "    {\n",
    "        public static int NthFibonacciNumber(int number)\n",
    "        {\n",
    "            int j = 1;\n",
    "            int firstNumber = 0;\n",
    "            int secondNumber = 1; \n",
    "            int nextNumber = 0;\n",
    "            if (number == 0)\n",
    "                return firstNumber;\n",
    "            for (int i = 2; i <= number; i=i+1) // i++\n",
    "            {\n",
    "                nextNumber = firstNumber + secondNumber;\n",
    "                firstNumber = secondNumber;\n",
    "                secondNumber = nextNumber;\n",
    "            }\n",
    "            return secondNumber;\n",
    "        }\n",
    "    }\n"
   ]
  },
  {
   "cell_type": "code",
   "execution_count": 6,
   "id": "arabic-oasis",
   "metadata": {},
   "outputs": [
    {
     "data": {
      "text/plain": [
       "144"
      ]
     },
     "execution_count": 6,
     "metadata": {},
     "output_type": "execute_result"
    }
   ],
   "source": [
    "Program.NthFibonacciNumber(12)\n"
   ]
  },
  {
   "cell_type": "code",
   "execution_count": 40,
   "id": "center-provision",
   "metadata": {},
   "outputs": [],
   "source": [
    "public class Program\n",
    "{\n",
    "    public static int Testfib(int a)\n",
    "    {\n",
    "        var h = new[] {15};\n",
    "        for (int j = 10; j != 4; j += -2)\n",
    "        {\n",
    "            a = j;\n",
    "        }\n",
    "\n",
    "        return a;\n",
    "    }\n",
    "\n",
    "}"
   ]
  },
  {
   "cell_type": "code",
   "execution_count": 41,
   "id": "quarterly-diagnosis",
   "metadata": {},
   "outputs": [
    {
     "data": {
      "text/plain": [
       "6"
      ]
     },
     "execution_count": 41,
     "metadata": {},
     "output_type": "execute_result"
    }
   ],
   "source": [
    "Program.Testfib(10)"
   ]
  },
  {
   "cell_type": "code",
   "execution_count": 44,
   "id": "original-joseph",
   "metadata": {},
   "outputs": [],
   "source": [
    "public class Test\n",
    "{\n",
    "    public static int testfib(int a)\n",
    "    {\n",
    "        List<int>h = new List<int>{15};\n",
    "        int j;\n",
    "        for (j=10 ; j!=6 ; j+=-2)\n",
    "        {\n",
    "            a = j;\n",
    "        }\n",
    "        return a;\n",
    "    }\n",
    "}"
   ]
  },
  {
   "cell_type": "code",
   "execution_count": 45,
   "id": "nuclear-thought",
   "metadata": {},
   "outputs": [
    {
     "data": {
      "text/plain": [
       "8"
      ]
     },
     "execution_count": 45,
     "metadata": {},
     "output_type": "execute_result"
    }
   ],
   "source": [
    "Test.testfib(10)"
   ]
  },
  {
   "cell_type": "code",
   "execution_count": null,
   "id": "sized-ceremony",
   "metadata": {},
   "outputs": [],
   "source": []
  }
 ],
 "metadata": {
  "kernelspec": {
   "display_name": ".NET (C#)",
   "language": "C#",
   "name": ".net-csharp"
  },
  "language_info": {
   "file_extension": ".cs",
   "mimetype": "text/x-csharp",
   "name": "C#",
   "pygments_lexer": "csharp",
   "version": "8.0"
  }
 },
 "nbformat": 4,
 "nbformat_minor": 5
}
