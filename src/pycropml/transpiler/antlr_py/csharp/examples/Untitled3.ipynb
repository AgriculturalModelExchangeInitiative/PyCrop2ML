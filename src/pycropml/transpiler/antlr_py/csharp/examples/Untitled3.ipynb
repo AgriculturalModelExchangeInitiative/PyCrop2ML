{
 "cells": [
  {
   "cell_type": "code",
   "execution_count": null,
   "id": "suspended-richards",
   "metadata": {},
   "outputs": [],
   "source": [
    "public class Test\n",
    "{\n",
    "    public static int testfib(int a)\n",
    "    {\n",
    "        List<Integer>h = new ArrayList <>(Arrays.asList(15));\n",
    "        int j;\n",
    "        for (j=10 ; j!=6 ; j+= - 2)\n",
    "        {\n",
    "            a = j;\n",
    "        }\n",
    "        return a;\n",
    "    }\n",
    "}"
   ]
  },
  {
   "cell_type": "code",
   "execution_count": null,
   "id": "driven-vector",
   "metadata": {},
   "outputs": [],
   "source": [
    "Test.testfib(10)"
   ]
  },
  {
   "cell_type": "code",
   "execution_count": null,
   "id": "swiss-shock",
   "metadata": {},
   "outputs": [],
   "source": []
  }
 ],
 "metadata": {
  "kernelspec": {
   "display_name": "Java",
   "language": "java",
   "name": "java"
  },
  "language_info": {
   "codemirror_mode": "java",
   "file_extension": ".jshell",
   "mimetype": "text/x-java-source",
   "name": "Java",
   "pygments_lexer": "java",
   "version": "14.0.2+12-46"
  }
 },
 "nbformat": 4,
 "nbformat_minor": 5
}
