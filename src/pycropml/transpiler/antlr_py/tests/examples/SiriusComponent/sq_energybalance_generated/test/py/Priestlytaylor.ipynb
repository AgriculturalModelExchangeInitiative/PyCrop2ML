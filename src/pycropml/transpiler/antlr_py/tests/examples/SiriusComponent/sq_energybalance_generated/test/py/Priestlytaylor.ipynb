{
 "cells": [
  {
   "cell_type": "markdown",
   "id": "5609ee0c",
   "metadata": {},
   "source": [
    "# Automatic generation of Notebook using PyCropML\n",
    "    This notebook implements a crop model."
   ]
  },
  {
   "cell_type": "markdown",
   "id": "3c9b332b",
   "metadata": {},
   "source": [
    "### Model Priestlytaylor"
   ]
  },
  {
   "cell_type": "code",
   "execution_count": null,
   "id": "0b1e30f3",
   "metadata": {},
   "outputs": [],
   "source": [
    "import numpy\n",
    "from datetime import datetime\n",
    "import sys\n",
    "sys.path.append(\"..\\..\\src\\py\\sq_energybalance_generated\")\n",
    "from Priestlytaylor import model_priestlytaylor\n"
   ]
  }
 ],
 "metadata": {},
 "nbformat": 4,
 "nbformat_minor": 5
}
