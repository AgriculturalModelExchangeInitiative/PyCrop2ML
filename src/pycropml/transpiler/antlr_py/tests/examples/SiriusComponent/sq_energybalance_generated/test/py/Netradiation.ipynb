{
 "cells": [
  {
   "cell_type": "markdown",
   "id": "ec71637f",
   "metadata": {},
   "source": [
    "# Automatic generation of Notebook using PyCropML\n",
    "    This notebook implements a crop model."
   ]
  },
  {
   "cell_type": "markdown",
   "id": "3754ad18",
   "metadata": {},
   "source": [
    "### Model Netradiation"
   ]
  },
  {
   "cell_type": "code",
   "execution_count": null,
   "id": "2995fca2",
   "metadata": {},
   "outputs": [],
   "source": [
    "import numpy\n",
    "from datetime import datetime\n",
    "import sys\n",
    "sys.path.append(\"..\\..\\src\\py\\sq_energybalance_generated\")\n",
    "from Netradiation import model_netradiation\n"
   ]
  }
 ],
 "metadata": {},
 "nbformat": 4,
 "nbformat_minor": 5
}
