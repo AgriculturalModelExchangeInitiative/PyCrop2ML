{
 "cells": [
  {
   "cell_type": "markdown",
   "id": "a1b9f77e",
   "metadata": {},
   "source": [
    "# Automatic generation of Notebook using PyCropML\n",
    "    This notebook implements a crop model."
   ]
  },
  {
   "cell_type": "markdown",
   "id": "47a23f8d",
   "metadata": {},
   "source": [
    "### Model Diffusionlimitedevaporation"
   ]
  },
  {
   "cell_type": "code",
   "execution_count": null,
   "id": "e7904b06",
   "metadata": {},
   "outputs": [],
   "source": [
    "import numpy\n",
    "from datetime import datetime\n",
    "import sys\n",
    "sys.path.append(\"..\\..\\src\\py\\sq_energybalance_generated\")\n",
    "from Diffusionlimitedevaporation import model_diffusionlimitedevaporation\n"
   ]
  }
 ],
 "metadata": {},
 "nbformat": 4,
 "nbformat_minor": 5
}
