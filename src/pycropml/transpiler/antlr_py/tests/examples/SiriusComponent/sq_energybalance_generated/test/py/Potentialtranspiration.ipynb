{
 "cells": [
  {
   "cell_type": "markdown",
   "id": "5b3ac52c",
   "metadata": {},
   "source": [
    "# Automatic generation of Notebook using PyCropML\n",
    "    This notebook implements a crop model."
   ]
  },
  {
   "cell_type": "markdown",
   "id": "931774ff",
   "metadata": {},
   "source": [
    "### Model Potentialtranspiration"
   ]
  },
  {
   "cell_type": "code",
   "execution_count": null,
   "id": "9483bdd3",
   "metadata": {},
   "outputs": [],
   "source": [
    "import numpy\n",
    "from datetime import datetime\n",
    "import sys\n",
    "sys.path.append(\"..\\..\\src\\py\\sq_energybalance_generated\")\n",
    "from Potentialtranspiration import model_potentialtranspiration\n"
   ]
  }
 ],
 "metadata": {},
 "nbformat": 4,
 "nbformat_minor": 5
}
