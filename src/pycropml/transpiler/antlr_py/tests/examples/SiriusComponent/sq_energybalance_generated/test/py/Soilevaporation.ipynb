{
 "cells": [
  {
   "cell_type": "markdown",
   "id": "001aae99",
   "metadata": {},
   "source": [
    "# Automatic generation of Notebook using PyCropML\n",
    "    This notebook implements a crop model."
   ]
  },
  {
   "cell_type": "markdown",
   "id": "c2f4f9bd",
   "metadata": {},
   "source": [
    "### Model Soilevaporation"
   ]
  },
  {
   "cell_type": "code",
   "execution_count": null,
   "id": "f412c6dc",
   "metadata": {},
   "outputs": [],
   "source": [
    "import numpy\n",
    "from datetime import datetime\n",
    "import sys\n",
    "sys.path.append(\"..\\..\\src\\py\\sq_energybalance_generated\")\n",
    "from Soilevaporation import model_soilevaporation\n"
   ]
  }
 ],
 "metadata": {},
 "nbformat": 4,
 "nbformat_minor": 5
}
