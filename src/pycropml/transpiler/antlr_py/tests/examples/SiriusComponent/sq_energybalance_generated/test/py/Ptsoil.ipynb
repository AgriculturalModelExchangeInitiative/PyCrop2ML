{
 "cells": [
  {
   "cell_type": "markdown",
   "id": "46635501",
   "metadata": {},
   "source": [
    "# Automatic generation of Notebook using PyCropML\n",
    "    This notebook implements a crop model."
   ]
  },
  {
   "cell_type": "markdown",
   "id": "5d0adc93",
   "metadata": {},
   "source": [
    "### Model Ptsoil"
   ]
  },
  {
   "cell_type": "code",
   "execution_count": null,
   "id": "f4760d83",
   "metadata": {},
   "outputs": [],
   "source": [
    "import numpy\n",
    "from datetime import datetime\n",
    "import sys\n",
    "sys.path.append(\"..\\..\\src\\py\\sq_energybalance_generated\")\n",
    "from Ptsoil import model_ptsoil\n"
   ]
  }
 ],
 "metadata": {},
 "nbformat": 4,
 "nbformat_minor": 5
}
