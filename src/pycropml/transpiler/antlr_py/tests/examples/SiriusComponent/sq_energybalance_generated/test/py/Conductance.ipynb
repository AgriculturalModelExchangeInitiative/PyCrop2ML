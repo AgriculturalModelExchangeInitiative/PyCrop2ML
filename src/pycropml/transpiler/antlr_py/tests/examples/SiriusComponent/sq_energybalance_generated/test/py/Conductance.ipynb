{
 "cells": [
  {
   "cell_type": "markdown",
   "id": "9b54181d",
   "metadata": {},
   "source": [
    "# Automatic generation of Notebook using PyCropML\n",
    "    This notebook implements a crop model."
   ]
  },
  {
   "cell_type": "markdown",
   "id": "e6a115be",
   "metadata": {},
   "source": [
    "### Model Conductance"
   ]
  },
  {
   "cell_type": "code",
   "execution_count": null,
   "id": "240ad185",
   "metadata": {},
   "outputs": [],
   "source": [
    "import numpy\n",
    "from datetime import datetime\n",
    "import sys\n",
    "sys.path.append(\"..\\..\\src\\py\\sq_energybalance_generated\")\n",
    "from Conductance import model_conductance\n"
   ]
  }
 ],
 "metadata": {},
 "nbformat": 4,
 "nbformat_minor": 5
}
