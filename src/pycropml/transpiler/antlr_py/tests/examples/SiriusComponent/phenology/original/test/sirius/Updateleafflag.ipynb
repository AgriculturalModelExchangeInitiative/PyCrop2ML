{
 "cells": [
  {
   "cell_type": "markdown",
   "id": "637b9bcc",
   "metadata": {},
   "source": [
    "# Automatic generation of Notebook using PyCropML\n",
    "    This notebook implements a crop model."
   ]
  },
  {
   "cell_type": "markdown",
   "id": "4b3bcf5b",
   "metadata": {},
   "source": [
    "### Model Updateleafflag"
   ]
  }
 ],
 "metadata": {},
 "nbformat": 4,
 "nbformat_minor": 5
}
