{
 "cells": [
  {
   "cell_type": "markdown",
   "id": "bbd074cd",
   "metadata": {},
   "source": [
    "# Automatic generation of Notebook using PyCropML\n",
    "    This notebook implements a crop model."
   ]
  },
  {
   "cell_type": "markdown",
   "id": "79fa6d92",
   "metadata": {},
   "source": [
    "### Model Gaimean"
   ]
  },
  {
   "cell_type": "code",
   "execution_count": null,
   "id": "e79d1f20",
   "metadata": {},
   "outputs": [],
   "source": [
    "import numpy\n",
    "from datetime import datetime\n",
    "import sys\n",
    "sys.path.append(\"..\\..\\src\\py\\phenology\")\n",
    "from Gaimean import model_gaimean\n"
   ]
  }
 ],
 "metadata": {},
 "nbformat": 4,
 "nbformat_minor": 5
}
