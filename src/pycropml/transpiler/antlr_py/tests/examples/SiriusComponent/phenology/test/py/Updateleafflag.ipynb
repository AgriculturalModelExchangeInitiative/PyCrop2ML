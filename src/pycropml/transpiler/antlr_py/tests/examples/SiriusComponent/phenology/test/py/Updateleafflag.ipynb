{
 "cells": [
  {
   "cell_type": "markdown",
   "id": "3f7ce833",
   "metadata": {},
   "source": [
    "# Automatic generation of Notebook using PyCropML\n",
    "    This notebook implements a crop model."
   ]
  },
  {
   "cell_type": "markdown",
   "id": "92c005a2",
   "metadata": {},
   "source": [
    "### Model Updateleafflag"
   ]
  },
  {
   "cell_type": "code",
   "execution_count": null,
   "id": "8fb40b94",
   "metadata": {},
   "outputs": [],
   "source": [
    "import numpy\n",
    "from datetime import datetime\n",
    "import sys\n",
    "sys.path.append(\"..\\..\\src\\py\\phenology\")\n",
    "from Updateleafflag import model_updateleafflag\n"
   ]
  }
 ],
 "metadata": {},
 "nbformat": 4,
 "nbformat_minor": 5
}
