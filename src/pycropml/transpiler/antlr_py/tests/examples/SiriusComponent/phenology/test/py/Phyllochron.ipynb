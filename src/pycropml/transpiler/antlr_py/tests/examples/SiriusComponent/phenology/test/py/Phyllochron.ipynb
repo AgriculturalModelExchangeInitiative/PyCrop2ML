{
 "cells": [
  {
   "cell_type": "markdown",
   "id": "64ac6fa2",
   "metadata": {},
   "source": [
    "# Automatic generation of Notebook using PyCropML\n",
    "    This notebook implements a crop model."
   ]
  },
  {
   "cell_type": "markdown",
   "id": "f6922b41",
   "metadata": {},
   "source": [
    "### Model Phyllochron"
   ]
  },
  {
   "cell_type": "code",
   "execution_count": null,
   "id": "99e553fd",
   "metadata": {},
   "outputs": [],
   "source": [
    "import numpy\n",
    "from datetime import datetime\n",
    "import sys\n",
    "sys.path.append(\"..\\..\\src\\py\\phenology\")\n",
    "from Phyllochron import model_phyllochron\n"
   ]
  }
 ],
 "metadata": {},
 "nbformat": 4,
 "nbformat_minor": 5
}
