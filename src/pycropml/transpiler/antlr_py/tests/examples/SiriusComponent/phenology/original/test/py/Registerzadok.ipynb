{
 "cells": [
  {
   "cell_type": "markdown",
   "id": "c94c85ad",
   "metadata": {},
   "source": [
    "# Automatic generation of Notebook using PyCropML\n",
    "    This notebook implements a crop model."
   ]
  },
  {
   "cell_type": "markdown",
   "id": "22e69df1",
   "metadata": {},
   "source": [
    "### Model Registerzadok"
   ]
  },
  {
   "cell_type": "code",
   "execution_count": null,
   "id": "4269eb8a",
   "metadata": {},
   "outputs": [],
   "source": [
    "import numpy\n",
    "from datetime import datetime\n",
    "from array import array\n",
    "import sys\n",
    "sys.path.append(\"..\\..\\src\\py\\original\")\n",
    "from registerzadok import model_registerzadok\n"
   ]
  }
 ],
 "metadata": {},
 "nbformat": 4,
 "nbformat_minor": 5
}
