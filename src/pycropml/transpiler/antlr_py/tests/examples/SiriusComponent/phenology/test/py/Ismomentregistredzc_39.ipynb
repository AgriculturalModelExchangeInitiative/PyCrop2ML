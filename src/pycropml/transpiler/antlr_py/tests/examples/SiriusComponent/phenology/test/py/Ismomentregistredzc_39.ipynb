{
 "cells": [
  {
   "cell_type": "markdown",
   "id": "785ce972",
   "metadata": {},
   "source": [
    "# Automatic generation of Notebook using PyCropML\n",
    "    This notebook implements a crop model."
   ]
  },
  {
   "cell_type": "markdown",
   "id": "e4b14a7d",
   "metadata": {},
   "source": [
    "### Model Ismomentregistredzc_39"
   ]
  },
  {
   "cell_type": "code",
   "execution_count": null,
   "id": "bf3a31cb",
   "metadata": {},
   "outputs": [],
   "source": [
    "import numpy\n",
    "from datetime import datetime\n",
    "import sys\n",
    "sys.path.append(\"..\\..\\src\\py\\phenology\")\n",
    "from Ismomentregistredzc_39 import model_ismomentregistredzc_39\n"
   ]
  }
 ],
 "metadata": {},
 "nbformat": 4,
 "nbformat_minor": 5
}
