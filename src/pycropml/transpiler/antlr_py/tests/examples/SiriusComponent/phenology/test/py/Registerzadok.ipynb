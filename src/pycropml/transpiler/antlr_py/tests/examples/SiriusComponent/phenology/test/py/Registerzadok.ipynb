{
 "cells": [
  {
   "cell_type": "markdown",
   "id": "2fcc3358",
   "metadata": {},
   "source": [
    "# Automatic generation of Notebook using PyCropML\n",
    "    This notebook implements a crop model."
   ]
  },
  {
   "cell_type": "markdown",
   "id": "226ddd5c",
   "metadata": {},
   "source": [
    "### Model Registerzadok"
   ]
  },
  {
   "cell_type": "code",
   "execution_count": null,
   "id": "3fac44c1",
   "metadata": {},
   "outputs": [],
   "source": [
    "import numpy\n",
    "from datetime import datetime\n",
    "import sys\n",
    "sys.path.append(\"..\\..\\src\\py\\phenology\")\n",
    "from Registerzadok import model_registerzadok\n"
   ]
  }
 ],
 "metadata": {},
 "nbformat": 4,
 "nbformat_minor": 5
}
