{
 "cells": [
  {
   "cell_type": "markdown",
   "id": "60850d56",
   "metadata": {},
   "source": [
    "# Automatic generation of Notebook using PyCropML\n",
    "    This notebook implements a crop model."
   ]
  },
  {
   "cell_type": "markdown",
   "id": "0b34d495",
   "metadata": {},
   "source": [
    "### Model Updateleafflag"
   ]
  },
  {
   "cell_type": "code",
   "execution_count": null,
   "id": "435cd251",
   "metadata": {},
   "outputs": [],
   "source": [
    "import numpy\n",
    "from datetime import datetime\n",
    "from array import array\n",
    "import sys\n",
    "sys.path.append(\"..\\..\\src\\py\\original\")\n",
    "from updateleafflag import model_updateleafflag\n"
   ]
  }
 ],
 "metadata": {},
 "nbformat": 4,
 "nbformat_minor": 5
}
