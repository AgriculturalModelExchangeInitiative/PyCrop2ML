{
 "cells": [
  {
   "cell_type": "markdown",
   "id": "508006fa",
   "metadata": {},
   "source": [
    "# Automatic generation of Notebook using PyCropML\n",
    "    This notebook implements a crop model."
   ]
  },
  {
   "cell_type": "markdown",
   "id": "e8e5550a",
   "metadata": {},
   "source": [
    "### Model Ismomentregistredzc_39"
   ]
  },
  {
   "cell_type": "code",
   "execution_count": null,
   "id": "b563874a",
   "metadata": {},
   "outputs": [],
   "source": [
    "import numpy\n",
    "from datetime import datetime\n",
    "from array import array\n",
    "import sys\n",
    "sys.path.append(\"..\\..\\src\\py\\original\")\n",
    "from ismomentregistredzc_39 import model_ismomentregistredzc_39\n"
   ]
  }
 ],
 "metadata": {},
 "nbformat": 4,
 "nbformat_minor": 5
}
