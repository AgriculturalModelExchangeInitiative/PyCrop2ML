{
 "cells": [
  {
   "cell_type": "markdown",
   "id": "934a9829",
   "metadata": {},
   "source": [
    "# Automatic generation of Notebook using PyCropML\n",
    "    This notebook implements a crop model."
   ]
  },
  {
   "cell_type": "markdown",
   "id": "4ab4d244",
   "metadata": {},
   "source": [
    "### Model Updatecalendar"
   ]
  }
 ],
 "metadata": {},
 "nbformat": 4,
 "nbformat_minor": 5
}
