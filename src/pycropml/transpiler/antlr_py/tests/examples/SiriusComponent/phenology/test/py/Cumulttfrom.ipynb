{
 "cells": [
  {
   "cell_type": "markdown",
   "id": "a1b030c9",
   "metadata": {},
   "source": [
    "# Automatic generation of Notebook using PyCropML\n",
    "    This notebook implements a crop model."
   ]
  },
  {
   "cell_type": "markdown",
   "id": "b95fda93",
   "metadata": {},
   "source": [
    "### Model Cumulttfrom"
   ]
  },
  {
   "cell_type": "code",
   "execution_count": null,
   "id": "50cb80db",
   "metadata": {},
   "outputs": [],
   "source": [
    "import numpy\n",
    "from datetime import datetime\n",
    "import sys\n",
    "sys.path.append(\"..\\..\\src\\py\\phenology\")\n",
    "from Cumulttfrom import model_cumulttfrom\n"
   ]
  }
 ],
 "metadata": {},
 "nbformat": 4,
 "nbformat_minor": 5
}
