{
 "cells": [
  {
   "cell_type": "markdown",
   "id": "65b9a020",
   "metadata": {},
   "source": [
    "# Automatic generation of Notebook using PyCropML\n",
    "    This notebook implements a crop model."
   ]
  },
  {
   "cell_type": "markdown",
   "id": "5d1e3afc",
   "metadata": {},
   "source": [
    "### Model Phylsowingdatecorrection"
   ]
  }
 ],
 "metadata": {},
 "nbformat": 4,
 "nbformat_minor": 5
}
