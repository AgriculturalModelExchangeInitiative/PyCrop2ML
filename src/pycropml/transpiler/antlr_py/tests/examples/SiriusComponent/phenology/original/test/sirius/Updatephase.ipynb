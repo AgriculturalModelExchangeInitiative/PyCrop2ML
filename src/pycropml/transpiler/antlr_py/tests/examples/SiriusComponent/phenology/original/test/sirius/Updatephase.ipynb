{
 "cells": [
  {
   "cell_type": "markdown",
   "id": "0b752416",
   "metadata": {},
   "source": [
    "# Automatic generation of Notebook using PyCropML\n",
    "    This notebook implements a crop model."
   ]
  },
  {
   "cell_type": "markdown",
   "id": "32fe429d",
   "metadata": {},
   "source": [
    "### Model Updatephase"
   ]
  }
 ],
 "metadata": {},
 "nbformat": 4,
 "nbformat_minor": 5
}
