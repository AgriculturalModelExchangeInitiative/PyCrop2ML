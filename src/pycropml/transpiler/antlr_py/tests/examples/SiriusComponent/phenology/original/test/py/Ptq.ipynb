{
 "cells": [
  {
   "cell_type": "markdown",
   "id": "a84f4e10",
   "metadata": {},
   "source": [
    "# Automatic generation of Notebook using PyCropML\n",
    "    This notebook implements a crop model."
   ]
  },
  {
   "cell_type": "markdown",
   "id": "8954c9bf",
   "metadata": {},
   "source": [
    "### Model Ptq"
   ]
  },
  {
   "cell_type": "code",
   "execution_count": null,
   "id": "978d55f3",
   "metadata": {},
   "outputs": [],
   "source": [
    "import numpy\n",
    "from datetime import datetime\n",
    "from array import array\n",
    "import sys\n",
    "sys.path.append(\"..\\..\\src\\py\\original\")\n",
    "from ptq import model_ptq\n"
   ]
  }
 ],
 "metadata": {},
 "nbformat": 4,
 "nbformat_minor": 5
}
