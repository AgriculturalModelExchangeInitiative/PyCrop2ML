{
 "cells": [
  {
   "cell_type": "markdown",
   "id": "519ab884",
   "metadata": {},
   "source": [
    "# Automatic generation of Notebook using PyCropML\n",
    "    This notebook implements a crop model."
   ]
  },
  {
   "cell_type": "markdown",
   "id": "bfe4d8bd",
   "metadata": {},
   "source": [
    "### Model Shootnumber"
   ]
  },
  {
   "cell_type": "code",
   "execution_count": null,
   "id": "37d66bd9",
   "metadata": {},
   "outputs": [],
   "source": [
    "import numpy\n",
    "from datetime import datetime\n",
    "from array import array\n",
    "import sys\n",
    "sys.path.append(\"..\\..\\src\\py\\original\")\n",
    "from shootnumber import model_shootnumber\n",
    "from shootnumber import init_shootnumber\n"
   ]
  }
 ],
 "metadata": {},
 "nbformat": 4,
 "nbformat_minor": 5
}
