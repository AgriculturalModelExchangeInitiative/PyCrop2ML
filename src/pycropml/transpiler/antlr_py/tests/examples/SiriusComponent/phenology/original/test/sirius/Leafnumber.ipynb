{
 "cells": [
  {
   "cell_type": "markdown",
   "id": "29b44ec6",
   "metadata": {},
   "source": [
    "# Automatic generation of Notebook using PyCropML\n",
    "    This notebook implements a crop model."
   ]
  },
  {
   "cell_type": "markdown",
   "id": "aa941042",
   "metadata": {},
   "source": [
    "### Model Leafnumber"
   ]
  }
 ],
 "metadata": {},
 "nbformat": 4,
 "nbformat_minor": 5
}
