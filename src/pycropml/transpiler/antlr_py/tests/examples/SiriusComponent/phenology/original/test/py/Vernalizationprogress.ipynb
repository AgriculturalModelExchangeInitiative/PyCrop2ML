{
 "cells": [
  {
   "cell_type": "markdown",
   "id": "f6f0ec1c",
   "metadata": {},
   "source": [
    "# Automatic generation of Notebook using PyCropML\n",
    "    This notebook implements a crop model."
   ]
  },
  {
   "cell_type": "markdown",
   "id": "75cad593",
   "metadata": {},
   "source": [
    "### Model Vernalizationprogress"
   ]
  },
  {
   "cell_type": "code",
   "execution_count": null,
   "id": "bdad5cbc",
   "metadata": {},
   "outputs": [],
   "source": [
    "import numpy\n",
    "from datetime import datetime\n",
    "from array import array\n",
    "import sys\n",
    "sys.path.append(\"..\\..\\src\\py\\original\")\n",
    "from vernalizationprogress import model_vernalizationprogress\n"
   ]
  }
 ],
 "metadata": {},
 "nbformat": 4,
 "nbformat_minor": 5
}
