{
 "cells": [
  {
   "cell_type": "markdown",
   "id": "68b38ba4",
   "metadata": {},
   "source": [
    "# Automatic generation of Notebook using PyCropML\n",
    "    This notebook implements a crop model."
   ]
  },
  {
   "cell_type": "markdown",
   "id": "b33c836e",
   "metadata": {},
   "source": [
    "### Model Vernalizationprogress"
   ]
  }
 ],
 "metadata": {},
 "nbformat": 4,
 "nbformat_minor": 5
}
