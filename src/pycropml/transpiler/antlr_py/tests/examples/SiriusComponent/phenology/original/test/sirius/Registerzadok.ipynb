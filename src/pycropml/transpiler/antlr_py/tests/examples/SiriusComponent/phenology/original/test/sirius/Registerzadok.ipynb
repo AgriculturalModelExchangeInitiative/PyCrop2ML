{
 "cells": [
  {
   "cell_type": "markdown",
   "id": "d3ddde0d",
   "metadata": {},
   "source": [
    "# Automatic generation of Notebook using PyCropML\n",
    "    This notebook implements a crop model."
   ]
  },
  {
   "cell_type": "markdown",
   "id": "763cc6d1",
   "metadata": {},
   "source": [
    "### Model Registerzadok"
   ]
  }
 ],
 "metadata": {},
 "nbformat": 4,
 "nbformat_minor": 5
}
