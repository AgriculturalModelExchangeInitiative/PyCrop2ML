{
 "cells": [
  {
   "cell_type": "markdown",
   "id": "4d01475a",
   "metadata": {},
   "source": [
    "# Automatic generation of Notebook using PyCropML\n",
    "    This notebook implements a crop model."
   ]
  },
  {
   "cell_type": "markdown",
   "id": "35245418",
   "metadata": {},
   "source": [
    "### Model Leafnumber"
   ]
  },
  {
   "cell_type": "code",
   "execution_count": null,
   "id": "708a13d6",
   "metadata": {},
   "outputs": [],
   "source": [
    "import numpy\n",
    "from datetime import datetime\n",
    "import sys\n",
    "sys.path.append(\"..\\..\\src\\py\\phenology\")\n",
    "from Leafnumber import model_leafnumber\n"
   ]
  }
 ],
 "metadata": {},
 "nbformat": 4,
 "nbformat_minor": 5
}
