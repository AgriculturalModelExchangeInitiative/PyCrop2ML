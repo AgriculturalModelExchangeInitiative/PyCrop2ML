{
 "cells": [
  {
   "cell_type": "markdown",
   "id": "7444545d",
   "metadata": {},
   "source": [
    "# Automatic generation of Notebook using PyCropML\n",
    "    This notebook implements a crop model."
   ]
  },
  {
   "cell_type": "markdown",
   "id": "f1fcfabf",
   "metadata": {},
   "source": [
    "### Model Vernalizationprogress"
   ]
  },
  {
   "cell_type": "code",
   "execution_count": null,
   "id": "aff8e18f",
   "metadata": {},
   "outputs": [],
   "source": [
    "import numpy\n",
    "from datetime import datetime\n",
    "import sys\n",
    "sys.path.append(\"..\\..\\src\\py\\phenology\")\n",
    "from Vernalizationprogress import model_vernalizationprogress\n"
   ]
  }
 ],
 "metadata": {},
 "nbformat": 4,
 "nbformat_minor": 5
}
