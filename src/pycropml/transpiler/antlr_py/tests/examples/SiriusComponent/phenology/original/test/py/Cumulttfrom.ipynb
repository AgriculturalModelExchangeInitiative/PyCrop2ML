{
 "cells": [
  {
   "cell_type": "markdown",
   "id": "3821bba6",
   "metadata": {},
   "source": [
    "# Automatic generation of Notebook using PyCropML\n",
    "    This notebook implements a crop model."
   ]
  },
  {
   "cell_type": "markdown",
   "id": "dd55e445",
   "metadata": {},
   "source": [
    "### Model Cumulttfrom"
   ]
  },
  {
   "cell_type": "code",
   "execution_count": null,
   "id": "4dea853b",
   "metadata": {},
   "outputs": [],
   "source": [
    "import numpy\n",
    "from datetime import datetime\n",
    "from array import array\n",
    "import sys\n",
    "sys.path.append(\"..\\..\\src\\py\\original\")\n",
    "from cumulttfrom import model_cumulttfrom\n"
   ]
  }
 ],
 "metadata": {},
 "nbformat": 4,
 "nbformat_minor": 5
}
