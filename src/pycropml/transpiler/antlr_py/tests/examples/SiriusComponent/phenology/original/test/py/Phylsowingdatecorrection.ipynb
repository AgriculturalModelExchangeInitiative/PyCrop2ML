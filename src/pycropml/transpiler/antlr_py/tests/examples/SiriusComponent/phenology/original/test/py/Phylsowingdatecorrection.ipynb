{
 "cells": [
  {
   "cell_type": "markdown",
   "id": "717d74cb",
   "metadata": {},
   "source": [
    "# Automatic generation of Notebook using PyCropML\n",
    "    This notebook implements a crop model."
   ]
  },
  {
   "cell_type": "markdown",
   "id": "3ebe57cb",
   "metadata": {},
   "source": [
    "### Model Phylsowingdatecorrection"
   ]
  },
  {
   "cell_type": "code",
   "execution_count": null,
   "id": "c3d1d681",
   "metadata": {},
   "outputs": [],
   "source": [
    "import numpy\n",
    "from datetime import datetime\n",
    "from array import array\n",
    "import sys\n",
    "sys.path.append(\"..\\..\\src\\py\\original\")\n",
    "from phylsowingdatecorrection import model_phylsowingdatecorrection\n"
   ]
  }
 ],
 "metadata": {},
 "nbformat": 4,
 "nbformat_minor": 5
}
