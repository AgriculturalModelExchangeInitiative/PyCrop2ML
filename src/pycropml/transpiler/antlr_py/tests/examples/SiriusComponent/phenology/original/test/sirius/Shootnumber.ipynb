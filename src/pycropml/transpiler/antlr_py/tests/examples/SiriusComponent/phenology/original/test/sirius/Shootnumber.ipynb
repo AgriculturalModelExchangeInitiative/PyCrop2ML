{
 "cells": [
  {
   "cell_type": "markdown",
   "id": "356e4fb2",
   "metadata": {},
   "source": [
    "# Automatic generation of Notebook using PyCropML\n",
    "    This notebook implements a crop model."
   ]
  },
  {
   "cell_type": "markdown",
   "id": "d6cee552",
   "metadata": {},
   "source": [
    "### Model Shootnumber"
   ]
  }
 ],
 "metadata": {},
 "nbformat": 4,
 "nbformat_minor": 5
}
