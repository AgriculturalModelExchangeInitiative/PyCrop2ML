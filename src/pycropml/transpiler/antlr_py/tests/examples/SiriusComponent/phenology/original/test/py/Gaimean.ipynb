{
 "cells": [
  {
   "cell_type": "markdown",
   "id": "11759792",
   "metadata": {},
   "source": [
    "# Automatic generation of Notebook using PyCropML\n",
    "    This notebook implements a crop model."
   ]
  },
  {
   "cell_type": "markdown",
   "id": "bc6efe5a",
   "metadata": {},
   "source": [
    "### Model Gaimean"
   ]
  },
  {
   "cell_type": "code",
   "execution_count": null,
   "id": "45dfecab",
   "metadata": {},
   "outputs": [],
   "source": [
    "import numpy\n",
    "from datetime import datetime\n",
    "from array import array\n",
    "import sys\n",
    "sys.path.append(\"..\\..\\src\\py\\original\")\n",
    "from gaimean import model_gaimean\n"
   ]
  }
 ],
 "metadata": {},
 "nbformat": 4,
 "nbformat_minor": 5
}
