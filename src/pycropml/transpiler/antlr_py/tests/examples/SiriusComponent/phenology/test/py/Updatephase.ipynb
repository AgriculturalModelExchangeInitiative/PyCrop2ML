{
 "cells": [
  {
   "cell_type": "markdown",
   "id": "537b382a",
   "metadata": {},
   "source": [
    "# Automatic generation of Notebook using PyCropML\n",
    "    This notebook implements a crop model."
   ]
  },
  {
   "cell_type": "markdown",
   "id": "3f5fbc48",
   "metadata": {},
   "source": [
    "### Model Updatephase"
   ]
  },
  {
   "cell_type": "code",
   "execution_count": null,
   "id": "c2a48b02",
   "metadata": {},
   "outputs": [],
   "source": [
    "import numpy\n",
    "from datetime import datetime\n",
    "import sys\n",
    "sys.path.append(\"..\\..\\src\\py\\phenology\")\n",
    "from Updatephase import model_updatephase\n"
   ]
  }
 ],
 "metadata": {},
 "nbformat": 4,
 "nbformat_minor": 5
}
