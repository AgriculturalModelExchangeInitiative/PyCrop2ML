{
 "cells": [
  {
   "cell_type": "markdown",
   "id": "f0e17837",
   "metadata": {},
   "source": [
    "# Automatic generation of Notebook using PyCropML\n",
    "    This notebook implements a crop model."
   ]
  },
  {
   "cell_type": "markdown",
   "id": "c34222f6",
   "metadata": {},
   "source": [
    "### Model Phylsowingdatecorrection"
   ]
  },
  {
   "cell_type": "code",
   "execution_count": null,
   "id": "6ff5675f",
   "metadata": {},
   "outputs": [],
   "source": [
    "import numpy\n",
    "from datetime import datetime\n",
    "import sys\n",
    "sys.path.append(\"..\\..\\src\\py\\phenology\")\n",
    "from Phylsowingdatecorrection import model_phylsowingdatecorrection\n"
   ]
  }
 ],
 "metadata": {},
 "nbformat": 4,
 "nbformat_minor": 5
}
