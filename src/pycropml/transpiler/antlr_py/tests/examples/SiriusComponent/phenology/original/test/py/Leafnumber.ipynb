{
 "cells": [
  {
   "cell_type": "markdown",
   "id": "fabf3b8b",
   "metadata": {},
   "source": [
    "# Automatic generation of Notebook using PyCropML\n",
    "    This notebook implements a crop model."
   ]
  },
  {
   "cell_type": "markdown",
   "id": "ea98c504",
   "metadata": {},
   "source": [
    "### Model Leafnumber"
   ]
  },
  {
   "cell_type": "code",
   "execution_count": null,
   "id": "1c8cc5f0",
   "metadata": {},
   "outputs": [],
   "source": [
    "import numpy\n",
    "from datetime import datetime\n",
    "from array import array\n",
    "import sys\n",
    "sys.path.append(\"..\\..\\src\\py\\original\")\n",
    "from leafnumber import model_leafnumber\n"
   ]
  }
 ],
 "metadata": {},
 "nbformat": 4,
 "nbformat_minor": 5
}
