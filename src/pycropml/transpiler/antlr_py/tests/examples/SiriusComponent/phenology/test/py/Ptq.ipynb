{
 "cells": [
  {
   "cell_type": "markdown",
   "id": "55da151a",
   "metadata": {},
   "source": [
    "# Automatic generation of Notebook using PyCropML\n",
    "    This notebook implements a crop model."
   ]
  },
  {
   "cell_type": "markdown",
   "id": "0ce4a5a8",
   "metadata": {},
   "source": [
    "### Model Ptq"
   ]
  },
  {
   "cell_type": "code",
   "execution_count": null,
   "id": "cbec389c",
   "metadata": {},
   "outputs": [],
   "source": [
    "import numpy\n",
    "from datetime import datetime\n",
    "import sys\n",
    "sys.path.append(\"..\\..\\src\\py\\phenology\")\n",
    "from Ptq import model_ptq\n"
   ]
  }
 ],
 "metadata": {},
 "nbformat": 4,
 "nbformat_minor": 5
}
