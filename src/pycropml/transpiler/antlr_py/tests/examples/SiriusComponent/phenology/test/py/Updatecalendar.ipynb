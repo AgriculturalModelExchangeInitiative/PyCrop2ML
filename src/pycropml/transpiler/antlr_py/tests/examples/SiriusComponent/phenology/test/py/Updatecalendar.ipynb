{
 "cells": [
  {
   "cell_type": "markdown",
   "id": "489c8b6c",
   "metadata": {},
   "source": [
    "# Automatic generation of Notebook using PyCropML\n",
    "    This notebook implements a crop model."
   ]
  },
  {
   "cell_type": "markdown",
   "id": "45f81d63",
   "metadata": {},
   "source": [
    "### Model Updatecalendar"
   ]
  },
  {
   "cell_type": "code",
   "execution_count": null,
   "id": "c8b8b5bd",
   "metadata": {},
   "outputs": [],
   "source": [
    "import numpy\n",
    "from datetime import datetime\n",
    "import sys\n",
    "sys.path.append(\"..\\..\\src\\py\\phenology\")\n",
    "from Updatecalendar import model_updatecalendar\n"
   ]
  }
 ],
 "metadata": {},
 "nbformat": 4,
 "nbformat_minor": 5
}
