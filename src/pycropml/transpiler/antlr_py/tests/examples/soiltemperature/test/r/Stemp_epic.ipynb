{
 "cells": [
  {
   "cell_type": "markdown",
   "id": "749a4045",
   "metadata": {},
   "source": [
    "# Automatic generation of Notebook using PyCropML\n",
    "    This notebook implements a crop model."
   ]
  },
  {
   "cell_type": "markdown",
   "id": "a11d50f3",
   "metadata": {},
   "source": [
    "### Model Stemp_epic"
   ]
  },
  {
   "cell_type": "code",
   "execution_count": 2,
   "id": "527a8e68",
   "metadata": {},
   "outputs": [],
   "source": [
    "source(\"../../src/r/soiltemperature/Stemp_epic.r\")\n",
    "library(assertthat)\n"
   ]
  },
  {
   "cell_type": "code",
   "execution_count": 6,
   "id": "5214e733",
   "metadata": {},
   "outputs": [
    {
     "name": "stdout",
     "output_type": "stream",
     "text": [
      " [1] 400.00000  25.80490  23.25960  21.76815  20.96581  27.50000  27.50000\n",
      " [8]  27.50000  27.50000  27.50000\n",
      "[1] 27.00000 25.43649 23.04468 21.64317 20.88921\n"
     ]
    }
   ],
   "source": [
    "test <- function() {\n",
    "\n",
    "library(gsubfn)\n",
    "DYNAMIC = 1\n",
    "    ISWWAT = 'Y'\n",
    "    BD    = array(c(1.6),dim=c(4,1,1))\n",
    "    DLAYR = array(c(10.0),dim=c(4,1,1))\n",
    "    DS = array(c(0.0),dim=c(4,1,1))\n",
    "    DS[1] =10.0\n",
    "    DS[2] =20.0\n",
    "    DS[3] =30.0\n",
    "    DS[4] =40.0\n",
    "    DUL   = array(c(0.3),dim=c(20,1,1))\n",
    "    LL    = array(c(0.2),dim=c(20,1,1))\n",
    "    NLAYR = 4\n",
    "    MSALB = 0.13\n",
    "    SRAD    = 20.0\n",
    "    SW      = array(c(0.2),dim=c(20,1,1))\n",
    "    TAVG    = 25.0\n",
    "    TMAX    = 30.0\n",
    "    TMIN    = 20.0\n",
    "    XLAT    = 28.0\n",
    "    TAV     = 20.0\n",
    "    TAMP    = 10.0\n",
    "    RAIN = 0.0\n",
    "    MULCHMASS = 0.0\n",
    "    SNOW = 0.0\n",
    "    DEPIR = 0.0\n",
    "    BIOMAS = 0.0\n",
    "    NL = 20\n",
    "\n",
    "    list[CUMDPT, DSMID, SRFTEMP, NDays, TDL, WetDay, ST, TMA]= init_stemp_epic(NL,ISWWAT,BD,DLAYR, DS,DUL,LL,NLAYR,TAMP,RAIN,\n",
    "                                                                         SW,TAVG,TMAX,TMIN,TAV, DEPIR,BIOMAS,MULCHMASS,SNOW)\n",
    "    print(c(CUMDPT,ST[1:4], TMA))\n",
    "    for (j in seq(1,299)){\n",
    "\n",
    "         list[SRFTEMP, NDays, TDL, WetDay, ST, TMA]= model_stemp_epic(NL,ISWWAT, BD, DLAYR,DS,DUL,LL, NLAYR,TAMP, RAIN,CUMDPT,DSMID,\n",
    "                                                         SW,TAVG,TMAX,TMIN, TAV,SRFTEMP, NDays,TDL, WetDay,ST,TMA,DEPIR,BIOMAS, MULCHMASS,SNOW)\n",
    "    }\n",
    "    print(c(SRFTEMP, ST[1:4]))\n",
    "    \n",
    "}\n",
    "test()\n"
   ]
  },
  {
   "cell_type": "code",
   "execution_count": null,
   "id": "110975a3",
   "metadata": {},
   "outputs": [],
   "source": []
  }
 ],
 "metadata": {
  "kernelspec": {
   "display_name": "R",
   "language": "R",
   "name": "ir"
  },
  "language_info": {
   "codemirror_mode": "r",
   "file_extension": ".r",
   "mimetype": "text/x-r-source",
   "name": "R",
   "pygments_lexer": "r",
   "version": "3.6.3"
  }
 },
 "nbformat": 4,
 "nbformat_minor": 5
}
