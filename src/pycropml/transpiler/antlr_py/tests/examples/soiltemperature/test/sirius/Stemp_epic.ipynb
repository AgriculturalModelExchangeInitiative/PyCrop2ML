{
 "cells": [
  {
   "cell_type": "markdown",
   "id": "858a34b6",
   "metadata": {},
   "source": [
    "# Automatic generation of Notebook using PyCropML\n",
    "    This notebook implements a crop model."
   ]
  },
  {
   "cell_type": "markdown",
   "id": "84d64033",
   "metadata": {},
   "source": [
    "### Model Stemp_epic"
   ]
  }
 ],
 "metadata": {},
 "nbformat": 4,
 "nbformat_minor": 5
}
