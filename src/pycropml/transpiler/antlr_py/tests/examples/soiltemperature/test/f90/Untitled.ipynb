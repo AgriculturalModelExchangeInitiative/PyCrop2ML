{
 "cells": [
  {
   "cell_type": "code",
   "execution_count": 1,
   "id": "6bb27616",
   "metadata": {},
   "outputs": [
    {
     "ename": "CompilationException",
     "evalue": "",
     "output_type": "error",
     "traceback": [
      "\u001b[1m\u001b[30m|   \u001b[1m\u001b[30m\u001b[0m\u001b[1m\u001b[30m\u001b[41m\u001b[0m\u001b[1m\u001b[30mimport org.apache.spark.*;\u001b[0m",
      "\u001b[1m\u001b[31mpackage org.apache.spark does not exist\u001b[0m",
      ""
     ]
    }
   ],
   "source": [
    "import org.apache.spark.*;\n",
    "import org.apache.spark.sql.*;\n",
    "import org.apache.spark.api.java.*;\n",
    "import org.apache.spark.ml.linalg.*;\n",
    "import org.apache.spark.sql.types.*;\n",
    "\n",
    "String appName = \"app\";\n",
    "String master = \"local[*]\";\n",
    "\n",
    "SparkConf conf = new SparkConf().setAppName(appName).setMaster(master);\n",
    "JavaSparkContext jsc = new JavaSparkContext(conf);\n",
    "\n",
    "SparkSession.builder()\n",
    "    .sparkContext(jsc.sc())\n",
    "    .master(master)\n",
    "    .getOrCreate();"
   ]
  },
  {
   "cell_type": "code",
   "execution_count": 2,
   "id": "d66f6711",
   "metadata": {},
   "outputs": [
    {
     "ename": "CompilationException",
     "evalue": "",
     "output_type": "error",
     "traceback": [
      "\u001b[1m\u001b[30m|   \u001b[1m\u001b[30m\u001b[0m\u001b[1m\u001b[30m\u001b[41m\u001b[0m\u001b[1m\u001b[30mimport org.apache.spark.*;\u001b[0m",
      "\u001b[1m\u001b[31mpackage org.apache.spark does not exist\u001b[0m",
      ""
     ]
    }
   ],
   "source": [
    "\n",
    "\n",
    "import org.apache.spark.*;\n",
    "import org.apache.spark.sql.*;\n",
    "import org.apache.spark.api.java.*;\n",
    "import org.apache.spark.ml.linalg.*;\n",
    "import org.apache.spark.sql.types.*;\n",
    "\n"
   ]
  },
  {
   "cell_type": "code",
   "execution_count": null,
   "id": "991cc189",
   "metadata": {},
   "outputs": [],
   "source": []
  }
 ],
 "metadata": {
  "kernelspec": {
   "display_name": "Java",
   "language": "java",
   "name": "java"
  },
  "language_info": {
   "codemirror_mode": "java",
   "file_extension": ".jshell",
   "mimetype": "text/x-java-source",
   "name": "Java",
   "pygments_lexer": "java",
   "version": "11.0.13+8-Ubuntu-0ubuntu1.20.04"
  }
 },
 "nbformat": 4,
 "nbformat_minor": 5
}
