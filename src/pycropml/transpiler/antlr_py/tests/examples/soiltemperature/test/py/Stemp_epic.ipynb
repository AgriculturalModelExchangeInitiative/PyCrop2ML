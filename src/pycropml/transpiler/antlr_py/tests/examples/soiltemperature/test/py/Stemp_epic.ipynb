{
 "cells": [
  {
   "cell_type": "markdown",
   "id": "32126ee9",
   "metadata": {},
   "source": [
    "# Automatic generation of Notebook using PyCropML\n",
    "    This notebook implements a crop model."
   ]
  },
  {
   "cell_type": "markdown",
   "id": "18ddb2d0",
   "metadata": {},
   "source": [
    "### Model Stemp_epic"
   ]
  },
  {
   "cell_type": "code",
   "execution_count": 6,
   "id": "b2d16df4",
   "metadata": {},
   "outputs": [],
   "source": [
    "import numpy\n",
    "from datetime import datetime\n",
    "import sys\n",
    "sys.path.append(\"..//..//src//py//soiltemperature\")\n",
    "from Stemp_epic import model_stemp_epic, init_stemp_epic\n"
   ]
  },
  {
   "cell_type": "code",
   "execution_count": 9,
   "id": "e5c0504c",
   "metadata": {},
   "outputs": [
    {
     "name": "stdout",
     "output_type": "stream",
     "text": [
      "400.0 array('f', [25.80490493774414, 23.259599685668945, 21.76814842224121, 20.96580696105957, 0.0, 0.0, 0.0, 0.0, 0.0, 0.0, 0.0, 0.0, 0.0, 0.0, 0.0, 0.0, 0.0, 0.0, 0.0, 0.0]) array('f', [27.5, 27.5, 27.5, 27.5, 27.5])\n",
      "27.0 array('f', [25.436492919921875, 23.044679641723633, 21.643169403076172, 20.88921356201172])\n"
     ]
    }
   ],
   "source": [
    "def test():\n",
    "\n",
    "    DYNAMIC = 1\n",
    "    DS=[]\n",
    "    ISWWAT = 'Y'\n",
    "    BD    = [1.6]*20\n",
    "    DLAYR = [10.0]*20\n",
    "    DS = [0.0]*20\n",
    "    DS[0] =10.0\n",
    "    DS[1] =20.0\n",
    "    DS[2] =30.0\n",
    "    DS[3] =40.0\n",
    "    DUL   = [0.3]*20\n",
    "    LL    = [0.2]*20\n",
    "    NLAYR = 4\n",
    "    MSALB = 0.13\n",
    "    SRAD    = 20.0\n",
    "    SW      = [0.2]*20\n",
    "    TAVG    = 25.0\n",
    "    TMAX    = 30.0\n",
    "    TMIN    = 20.0\n",
    "    XLAT    = 28.0\n",
    "    TAV     = 20.0\n",
    "    TAMP    = 10.0\n",
    "    RAIN = 0.0\n",
    "    MULCHMASS = 0.0\n",
    "    SNOW = 0.0\n",
    "    DEPIR = 0.0\n",
    "    BIOMAS = 0.0\n",
    "    NL = 20\n",
    "\n",
    "    CUMDPT, DSMID, SRFTEMP, NDays, TDL, WetDay, ST, TMA= init_stemp_epic(NL,ISWWAT,BD,DLAYR, DS,DUL,LL,NLAYR,TAMP,RAIN,\\\n",
    "                                                                         SW,TAVG,TMAX,TMIN,TAV, DEPIR,BIOMAS,MULCHMASS,SNOW)\n",
    "    print(CUMDPT, ST, TMA)\n",
    "    for j in range(299):\n",
    "\n",
    "        SRFTEMP, NDays, TDL, WetDay, ST, TMA= model_stemp_epic(NL,ISWWAT, BD, DLAYR,DS,DUL,LL, NLAYR,TAMP, RAIN,CUMDPT,DSMID,\\\n",
    "                                                          SW,TAVG,TMAX,TMIN, TAV,SRFTEMP, NDays,TDL, WetDay,ST,TMA,DEPIR,BIOMAS, MULCHMASS,SNOW)\n",
    "    print(SRFTEMP, ST[0:4])\n",
    "    \n",
    "\n",
    "test()\n"
   ]
  },
  {
   "cell_type": "code",
   "execution_count": null,
   "id": "3d2059ae",
   "metadata": {},
   "outputs": [],
   "source": []
  }
 ],
 "metadata": {
  "kernelspec": {
   "display_name": "Python 3 (ipykernel)",
   "language": "python",
   "name": "python3"
  },
  "language_info": {
   "codemirror_mode": {
    "name": "ipython",
    "version": 3
   },
   "file_extension": ".py",
   "mimetype": "text/x-python",
   "name": "python",
   "nbconvert_exporter": "python",
   "pygments_lexer": "ipython3",
   "version": "3.7.7"
  }
 },
 "nbformat": 4,
 "nbformat_minor": 5
}
