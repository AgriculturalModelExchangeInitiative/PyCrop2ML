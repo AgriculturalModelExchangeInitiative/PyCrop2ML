{
 "cells": [
  {
   "cell_type": "markdown",
   "id": "10cceadb",
   "metadata": {},
   "source": [
    "# Automatic generation of Notebook using PyCropML\n",
    "    This notebook implements a crop model."
   ]
  },
  {
   "cell_type": "markdown",
   "id": "cf7b9edb",
   "metadata": {},
   "source": [
    "### Model Stmpsimcalculator"
   ]
  },
  {
   "cell_type": "code",
   "execution_count": null,
   "id": "741ca677",
   "metadata": {},
   "outputs": [],
   "source": [
    "import numpy\n",
    "from datetime import datetime\n",
    "import sys\n",
    "sys.path.append(\"..\\..\\src\\py\\SoilTemp\")\n",
    "from Stmpsimcalculator import model_stmpsimcalculator\n",
    "from Stmpsimcalculator import init_stmpsimcalculator\n"
   ]
  },
  {
   "cell_type": "code",
   "execution_count": null,
   "id": "87331c2f",
   "metadata": {},
   "outputs": [],
   "source": [
    "cSoilLayerDepth = [0.1, 0.5, 1.5]\n",
    "cFirstDayMeanTemp = 15.0\n",
    "cAVT = 9.0\n",
    "cABD = 1.4\n",
    "cDampingDepth = 6.0\n",
    "iSoilWaterContent = 0.3\n",
    "iSoilSurfaceTemperature = 6.0\n",
    "SoilTempArray, pSoilLayerDepth = init_stmpsimcalculator(cSoilLayerDepth,cFirstDayMeanTemp,cAVT,cABD,cDampingDepth,iSoilWaterContent,iSoilSurfaceTemperature)\n",
    "params= model_stmpsimcalculator(cSoilLayerDepth, cFirstDayMeanTemp, cAVT, cABD, cDampingDepth, iSoilWaterContent, iSoilSurfaceTemperature, SoilTempArray, pSoilLayerDepth)\n",
    "\n",
    "SoilTempArray_estimated = np.around(params, 5)\n",
    "SoilTempArray_computed = [13.624360856350041, 13.399968504634286, 12.599999999999845, 12.2, 11.4, 10.6, 9.799999999999999, 9.0]\n",
    "assert numpy.all(SoilTempArray_estimated == SoilTempArray_computed)"
   ]
  }
 ],
 "metadata": {},
 "nbformat": 4,
 "nbformat_minor": 5
}
