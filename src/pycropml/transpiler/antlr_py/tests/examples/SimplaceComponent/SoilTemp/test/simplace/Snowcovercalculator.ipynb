{
 "cells": [
  {
   "cell_type": "markdown",
   "id": "8184b1aa",
   "metadata": {},
   "source": [
    "# Automatic generation of Notebook using PyCropML\n",
    "    This notebook implements a crop model."
   ]
  },
  {
   "cell_type": "markdown",
   "id": "682362a3",
   "metadata": {},
   "source": [
    "### Model Snowcovercalculator"
   ]
  }
 ],
 "metadata": {},
 "nbformat": 4,
 "nbformat_minor": 5
}
