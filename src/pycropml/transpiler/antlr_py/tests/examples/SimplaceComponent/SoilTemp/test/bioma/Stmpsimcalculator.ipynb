{
 "cells": [
  {
   "cell_type": "markdown",
   "id": "0a100d63",
   "metadata": {},
   "source": [
    "# Automatic generation of Notebook using PyCropML\n",
    "    This notebook implements a crop model."
   ]
  },
  {
   "cell_type": "markdown",
   "id": "27379fd1",
   "metadata": {},
   "source": [
    "### Model Stmpsimcalculator"
   ]
  }
 ],
 "metadata": {},
 "nbformat": 4,
 "nbformat_minor": 5
}
