{
 "cells": [
  {
   "cell_type": "markdown",
   "id": "88880d29",
   "metadata": {},
   "source": [
    "# Automatic generation of Notebook using PyCropML\n",
    "    This notebook implements a crop model."
   ]
  },
  {
   "cell_type": "markdown",
   "id": "93d59b0d",
   "metadata": {},
   "source": [
    "### Model Snowcovercalculator"
   ]
  }
 ],
 "metadata": {},
 "nbformat": 4,
 "nbformat_minor": 5
}
