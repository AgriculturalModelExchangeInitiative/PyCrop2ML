{
 "cells": [
  {
   "cell_type": "markdown",
   "id": "ed10da2d",
   "metadata": {},
   "source": [
    "# Automatic generation of Notebook using PyCropML\n",
    "    This notebook implements a crop model."
   ]
  },
  {
   "cell_type": "markdown",
   "id": "c3774b13",
   "metadata": {},
   "source": [
    "### Model Stmpsimcalculator"
   ]
  }
 ],
 "metadata": {},
 "nbformat": 4,
 "nbformat_minor": 5
}
