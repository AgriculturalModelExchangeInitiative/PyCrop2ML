{
 "cells": [
  {
   "cell_type": "markdown",
   "id": "56e7c836",
   "metadata": {},
   "source": [
    "# Automatic generation of Notebook using PyCropML\n",
    "    This notebook implements a crop model."
   ]
  },
  {
   "cell_type": "markdown",
   "id": "76f08c59",
   "metadata": {},
   "source": [
    "### Model Snowcovercalculator"
   ]
  }
 ],
 "metadata": {},
 "nbformat": 4,
 "nbformat_minor": 5
}
