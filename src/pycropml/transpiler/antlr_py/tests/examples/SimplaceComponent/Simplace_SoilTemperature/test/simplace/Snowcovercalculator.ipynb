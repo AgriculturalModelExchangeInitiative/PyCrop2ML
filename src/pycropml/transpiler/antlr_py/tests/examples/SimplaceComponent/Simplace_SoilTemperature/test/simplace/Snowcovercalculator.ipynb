{
 "cells": [
  {
   "cell_type": "markdown",
   "id": "be9752a0",
   "metadata": {},
   "source": [
    "# Automatic generation of Notebook using PyCropML\n",
    "    This notebook implements a crop model."
   ]
  },
  {
   "cell_type": "markdown",
   "id": "9cdac10b",
   "metadata": {},
   "source": [
    "### Model Snowcovercalculator"
   ]
  }
 ],
 "metadata": {},
 "nbformat": 4,
 "nbformat_minor": 5
}
