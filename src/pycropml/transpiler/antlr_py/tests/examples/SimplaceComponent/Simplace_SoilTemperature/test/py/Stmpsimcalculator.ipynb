{
 "cells": [
  {
   "cell_type": "markdown",
   "id": "57b3b84b",
   "metadata": {},
   "source": [
    "# Automatic generation of Notebook using PyCropML\n",
    "    This notebook implements a crop model."
   ]
  },
  {
   "cell_type": "markdown",
   "id": "a0d6adb9",
   "metadata": {},
   "source": [
    "### Model Stmpsimcalculator"
   ]
  },
  {
   "cell_type": "code",
   "execution_count": null,
   "id": "05fbcdc1",
   "metadata": {},
   "outputs": [],
   "source": [
    "import numpy\n",
    "from datetime import datetime\n",
    "from array import array\n",
    "import sys\n",
    "sys.path.append(\"..\\..\\src\\py\\Simplace_SoilTemperature\")\n",
    "from stmpsimcalculator import model_stmpsimcalculator\n",
    "from stmpsimcalculator import init_stmpsimcalculator\n"
   ]
  },
  {
   "cell_type": "code",
   "execution_count": null,
   "id": "120f038a",
   "metadata": {},
   "outputs": [],
   "source": [
    "cSoilLayerDepth = [0.1, 0.5, 1.5]\n",
    "cFirstDayMeanTemp = 15.0\n",
    "cAVT = 9.0\n",
    "cABD = 1.4\n",
    "cDampingDepth = 6.0\n",
    "iSoilWaterContent = 0.3\n",
    "iSoilSurfaceTemperature = 6.0\n",
    "SoilTempArray, pSoilLayerDepth = init_stmpsimcalculator(cSoilLayerDepth,cFirstDayMeanTemp,cAVT,cABD,cDampingDepth,iSoilWaterContent,iSoilSurfaceTemperature)\n",
    "params= model_stmpsimcalculator(cSoilLayerDepth, cFirstDayMeanTemp, cAVT, cABD, cDampingDepth, iSoilWaterContent, iSoilSurfaceTemperature, SoilTempArray, pSoilLayerDepth)\n",
    "\n",
    "SoilTempArray_estimated = numpy.around(params, 5)\n",
    "SoilTempArray_computed = numpy.around(array('f', [13.624360856350041, 13.399968504634286, 12.599999999999845, 12.2, 11.4, 10.6, 9.799999999999999, 9.0]),5)\n",
    "assert numpy.all(SoilTempArray_estimated == SoilTempArray_computed)"
   ]
  }
 ],
 "metadata": {},
 "nbformat": 4,
 "nbformat_minor": 5
}
