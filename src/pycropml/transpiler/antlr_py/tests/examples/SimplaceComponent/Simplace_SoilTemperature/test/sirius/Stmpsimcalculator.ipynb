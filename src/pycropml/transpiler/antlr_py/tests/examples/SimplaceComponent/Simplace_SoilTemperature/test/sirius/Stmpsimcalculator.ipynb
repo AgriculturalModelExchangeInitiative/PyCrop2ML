{
 "cells": [
  {
   "cell_type": "markdown",
   "id": "f267d943",
   "metadata": {},
   "source": [
    "# Automatic generation of Notebook using PyCropML\n",
    "    This notebook implements a crop model."
   ]
  },
  {
   "cell_type": "markdown",
   "id": "ba97e6a0",
   "metadata": {},
   "source": [
    "### Model Stmpsimcalculator"
   ]
  }
 ],
 "metadata": {},
 "nbformat": 4,
 "nbformat_minor": 5
}
