{
 "cells": [
  {
   "cell_type": "code",
   "execution_count": null,
   "id": "8287768e",
   "metadata": {},
   "outputs": [],
   "source": [
    "        public HashMap<String, FWSimVariable<?>> createVariables()\n",
    "        {\n",
    "            addVariable(FWSimVariable.createSimVariable(\"iSoilWaterContent\", \"Content of water in Soil\", DATA_TYPE.DOUBLE,\n",
    "                CONTENT_TYPE.input, \"mm\", 1.5, 20d, 5d, this));\n",
    "            addVariable(FWSimVariable.createSimVariable(\"SoilTempArray\", \"Array of temperature \", DATA_TYPE.DOUBLEARRAY,\n",
    "                CONTENT_TYPE.out, \"degC\", -20, 40, null, this));\n",
    "            //....\n",
    "            return iFieldMap;\n",
    "        }\n",
    "\n"
   ]
  }
 ],
 "metadata": {
  "kernelspec": {
   "display_name": "Java",
   "language": "java",
   "name": "java"
  },
  "language_info": {
   "codemirror_mode": "java",
   "file_extension": ".jshell",
   "mimetype": "text/x-java-source",
   "name": "Java",
   "pygments_lexer": "java",
   "version": "11.0.13+8-Ubuntu-0ubuntu1.20.04"
  }
 },
 "nbformat": 4,
 "nbformat_minor": 5
}
