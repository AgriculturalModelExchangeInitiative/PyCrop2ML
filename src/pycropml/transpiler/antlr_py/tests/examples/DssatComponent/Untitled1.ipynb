{
 "cells": [
  {
   "cell_type": "code",
   "execution_count": 1,
   "id": "5b9ebcd5",
   "metadata": {},
   "outputs": [],
   "source": [
    "name='Toto'"
   ]
  },
  {
   "cell_type": "code",
   "execution_count": 6,
   "id": "a062b0c4",
   "metadata": {},
   "outputs": [
    {
     "data": {
      "text/plain": [
       "'Hey hh/Toto'"
      ]
     },
     "execution_count": 6,
     "metadata": {},
     "output_type": "execute_result"
    }
   ],
   "source": [
    "'Hey {0}/{1}'.format(\"hh\",name)"
   ]
  },
  {
   "cell_type": "code",
   "execution_count": null,
   "id": "6dc521be",
   "metadata": {},
   "outputs": [],
   "source": []
  }
 ],
 "metadata": {
  "kernelspec": {
   "display_name": "Python 3",
   "language": "python",
   "name": "python3"
  },
  "language_info": {
   "codemirror_mode": {
    "name": "ipython",
    "version": 3
   },
   "file_extension": ".py",
   "mimetype": "text/x-python",
   "name": "python",
   "nbconvert_exporter": "python",
   "pygments_lexer": "ipython3",
   "version": "3.7.10"
  }
 },
 "nbformat": 4,
 "nbformat_minor": 5
}
