{
 "cells": [
  {
   "cell_type": "code",
   "execution_count": 9,
   "metadata": {},
   "outputs": [],
   "source": [
    "public abstract class Room {\n",
    "    abstract void connect(Room room);\n",
    "}\n",
    "\n",
    "public abstract class MazeGame {\n",
    "     private final List<Room> rooms = new ArrayList<>();\n",
    "\n",
    "     public MazeGame() {\n",
    "          Room room1 = makeRoom();\n",
    "          Room room2 = makeRoom();\n",
    "          room1.connect(room2);\n",
    "          rooms.add(room1);\n",
    "          rooms.add(room2);\n",
    "     }\n",
    "\n",
    "     abstract protected Room makeRoom();\n",
    "}\n",
    "\n",
    "public class MagicRoom extends Room {\n",
    "    public void connect(Room room) {}\n",
    "}\n"
   ]
  },
  {
   "cell_type": "code",
   "execution_count": 10,
   "metadata": {},
   "outputs": [],
   "source": [
    "public class MagicMazeGame extends MazeGame {\n",
    "    @Override\n",
    "    protected Room makeRoom() {\n",
    "        return new MagicRoom();\n",
    "    }\n",
    "}\n"
   ]
  },
  {
   "cell_type": "code",
   "execution_count": 11,
   "metadata": {},
   "outputs": [],
   "source": [
    "MazeGame magicGame = new MagicMazeGame();"
   ]
  },
  {
   "cell_type": "code",
   "execution_count": 14,
   "metadata": {},
   "outputs": [
    {
     "data": {
      "text/plain": [
       "REPL.$JShell$20$MagicRoom@441ece87"
      ]
     },
     "execution_count": 14,
     "metadata": {},
     "output_type": "execute_result"
    }
   ],
   "source": [
    "magicGame.makeRoom()"
   ]
  },
  {
   "cell_type": "code",
   "execution_count": 65,
   "metadata": {},
   "outputs": [
    {
     "ename": "EvalException",
     "evalue": "null",
     "output_type": "error",
     "traceback": [
      "\u001b[1m\u001b[31m---------------------------------------------------------------------------\u001b[0m",
      "\u001b[1m\u001b[31mjava.lang.NullPointerException: null\u001b[0m",
      "\u001b[1m\u001b[31m\tat .(#50:1)\u001b[0m"
     ]
    }
   ],
   "source": [
    "public abstract class Forme{\n",
    " protected java.awt.Color col;\n",
    " public Forme(java.awt.Color c){ this.col = c; }\n",
    " public abstract void paint(java.awt.Graphics g);\n",
    "}\n",
    " \n",
    "public class Ligne extends Forme{\n",
    " private java.awt.Point a,b;\n",
    " public Ligne(java.awt.Point a, java.awt.Point b,java.awt.Color c){\n",
    "  super(c);\n",
    "  this.a = a; this.b = b;\n",
    " }\n",
    " public void paint(java.awt.Graphics g){\n",
    "  g.setColor(this.col);\n",
    "  g.drawLine(a.x,a.y,b.x,b.y);\n",
    " }\n",
    "}\n",
    " \n",
    "public class Triangle extends Forme{\n",
    " private java.awt.Point a,b,c;\n",
    " public Triangle(java.awt.Point a, java.awt.Point b, java.awt.Point c, java.awt.Color col){\n",
    "  super(col);\n",
    "  this.a = a; this.b = b; this.c = c;\n",
    " }\n",
    " public void paint(java.awt.Graphics g){\n",
    "  g.setColor(this.col);\n",
    "  g.drawLine(a.x,a.y,b.x,b.y);\n",
    "  g.drawLine(a.x,a.y,c.x,c.y);\n",
    "  g.drawLine(c.x,c.y,b.x,b.y);\n",
    " }\n",
    "}\n",
    " \n",
    "public class Rectangle extends Forme{\n",
    " private int x,y,w,h;\n",
    " public Rectangle(int x, int y, int w, int h, java.awt.Color c){\n",
    "  super(c);\n",
    "  this.x = x; this.y = y; this.w = w; this.h = h;\n",
    " }\n",
    " public void paint(java.awt.Graphics g){\n",
    "  g.setColor(this.col);\n",
    "  g.drawRect(x,y,w,h);\n",
    " }\n",
    "}\n",
    "\n",
    "public class FormeFactory{\n",
    " private static FormeFactory factory;\n",
    " private int w,h;\n",
    " public static final int LIGNE=0, TRIANGLE=1, RECTANGLE=2;\n",
    " private FormeFactory(int w, int h){\n",
    "  this.w = w; this.h = h;\n",
    " }\n",
    " public static FormeFactory getFactory(int w, int h){\n",
    "  if(factory==null) factory = new FormeFactory(w,h);\n",
    "  return factory;\n",
    " }\n",
    " public void setDefaultDimensions(int w, int h){\n",
    "  factory.w = w; factory.h = h;\n",
    " }\n",
    " public Forme createForme(int type, java.awt.Color c, int x, int y){\n",
    "  switch(type){\n",
    "   case 0 : return new Ligne(new java.awt.Point(x,y),new java.awt.Point(x+w,y+h),c);\n",
    "   case 1 : return new Triangle(new java.awt.Point(x,y),new java.awt.Point(x+w,y),new java.awt.Point(x+w,y+h),c);\n",
    "   case 2 : return new Rectangle(x,y,w,h,c);\n",
    "   default : return new Ligne(new java.awt.Point(x,y),new java.awt.Point(x+w,y+h),c);\n",
    "  }\n",
    " }\n",
    "}\n",
    "\n",
    "FormeFactory factory;\n",
    "factory.setDefaultDimensions(2,3);"
   ]
  },
  {
   "cell_type": "code",
   "execution_count": 38,
   "metadata": {},
   "outputs": [],
   "source": [
    "public abstract class Figure {\n",
    "\n",
    "    public Figure() {\n",
    "        \n",
    "        Forme okForm = createForm();\n",
    "        okForm.paint();\n",
    "    }\n",
    "    /**\n",
    "     * Subclasses will override this method in order to create specific button\n",
    "     * objects.\n",
    "     */\n",
    "    abstract protected Forme createForme();\n",
    "}"
   ]
  },
  {
   "cell_type": "code",
   "execution_count": 39,
   "metadata": {},
   "outputs": [],
   "source": [
    "public class RectFig extends Figure {\n",
    "    @Override\n",
    "    protected Forme createForme() {\n",
    "        return new Rectangle();\n",
    "    }\n",
    "}\n",
    "\n",
    "public class LineFig extends Figure {\n",
    "    @Override\n",
    "    protected Forme createForme() {\n",
    "        return new Line();\n",
    "    }\n",
    "}"
   ]
  },
  {
   "cell_type": "code",
   "execution_count": 56,
   "metadata": {},
   "outputs": [],
   "source": [
    "Figure rec;"
   ]
  },
  {
   "cell_type": "code",
   "execution_count": null,
   "metadata": {},
   "outputs": [],
   "source": []
  }
 ],
 "metadata": {
  "kernelspec": {
   "display_name": "Java",
   "language": "java",
   "name": "java"
  },
  "language_info": {
   "codemirror_mode": "java",
   "file_extension": ".java",
   "mimetype": "text/x-java-source",
   "name": "Java",
   "pygments_lexer": "java",
   "version": "10.0.1+10"
  }
 },
 "nbformat": 4,
 "nbformat_minor": 4
}
