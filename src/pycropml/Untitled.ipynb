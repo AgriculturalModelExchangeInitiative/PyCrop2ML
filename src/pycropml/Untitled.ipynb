{
 "cells": [
  {
   "cell_type": "code",
   "execution_count": 1,
   "metadata": {},
   "outputs": [],
   "source": [
    "using System;\n",
    "using System.Collections.Generic;\n",
    "public class Test\n",
    "{\n",
    "    public static double modelunit_conductance(double vonKarman,double heightWeatherMeasurements,double zm,double zh,double d,double plantHeight,double wind)\n",
    "    {\n",
    "        double conductance;\n",
    "        double h;\n",
    "        h = Math.Max(10.0d, plantHeight) / 100.0d;\n",
    "        conductance = wind * Math.Pow(vonKarman, test(2)) / (Math.Log((heightWeatherMeasurements - (d * h)) / (zm * h)) * Math.Log((heightWeatherMeasurements - (d * h)) / (zh * h)));\n",
    "        return conductance;\n",
    "    }\n",
    "    public static int test(int a)\n",
    "    {\n",
    "        int c = 10;\n",
    "        c = a + c;\n",
    "        return c;\n",
    "    }\n",
    "}"
   ]
  },
  {
   "cell_type": "code",
   "execution_count": 15,
   "metadata": {},
   "outputs": [
    {
     "ename": "Microsoft.CodeAnalysis.Scripting.CompilationErrorException",
     "evalue": "(3,49): error CS1736: Default parameter value for 'a' must be a compile-time constant",
     "execution_count": 15,
     "output_type": "error",
     "traceback": [
      "(3,49): error CS1736: Default parameter value for 'a' must be a compile-time constant",
      "   à Microsoft.CodeAnalysis.Scripting.Script.CompilationError(DiagnosticBag diagnostics)\r",
      "   à Microsoft.CodeAnalysis.Scripting.Script.GetExecutor(CancellationToken cancellationToken)\r",
      "   à Microsoft.CodeAnalysis.Scripting.Script.TryRunFrom(ScriptState state, ScriptExecutionState& executionState, Object& value)\r",
      "   à Microsoft.CodeAnalysis.Scripting.Script.Run(Object globals)\r",
      "   à Microsoft.CodeAnalysis.Scripting.Script.Run(Object globals)\r",
      "   à ScriptCs.Engine.Roslyn.CSharpScriptEngine.GetScriptState(String code, Object globals) dans C:\\Users\\midingoy\\Documents\\THESE\\icsharp\\Engine\\src\\ScriptCs.Engine.Roslyn\\CSharpScriptEngine.cs:ligne 18\r",
      "   à ScriptCs.Engine.Roslyn.CommonScriptEngine.Execute(String code, Object globals, SessionState`1 sessionState) dans C:\\Users\\midingoy\\Documents\\THESE\\icsharp\\Engine\\src\\ScriptCs.Engine.Roslyn\\CommonScriptEngine.cs:ligne 158"
     ]
    }
   ],
   "source": [
    "using System;\n",
    "using System.Collections.Generic;\n",
    "public class Test\n",
    "{\n",
    "    public static int test(int g, List<int> a = new List<int>{15, 20}, int  v = 6)\n",
    "    {\n",
    "        int c = 10;\n",
    "        return c;\n",
    "    }\n",
    "    public static int test2(int  e = 9)\n",
    "    {\n",
    "        int h = 7;\n",
    "        return h;\n",
    "    }\n",
    "}"
   ]
  },
  {
   "cell_type": "code",
   "execution_count": 9,
   "metadata": {},
   "outputs": [
    {
     "data": {
      "text/html": [
       "<font style=\"color:Black\">-∞\r\n",
       "</font>"
      ],
      "text/plain": [
       "-∞\r\n"
      ]
     },
     "metadata": {},
     "output_type": "display_data"
    }
   ],
   "source": []
  },
  {
   "cell_type": "code",
   "execution_count": null,
   "metadata": {},
   "outputs": [],
   "source": []
  }
 ],
 "metadata": {
  "kernelspec": {
   "display_name": "C#",
   "language": "csharp",
   "name": "csharp"
  },
  "language_info": {
   "file_extension": ".cs",
   "mimetype": "text/x-csharp",
   "name": "C#",
   "pygments_lexer": "c#",
   "version": "4.0.30319"
  }
 },
 "nbformat": 4,
 "nbformat_minor": 2
}
